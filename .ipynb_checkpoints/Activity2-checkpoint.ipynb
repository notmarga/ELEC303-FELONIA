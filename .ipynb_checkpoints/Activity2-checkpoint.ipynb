{
 "cells": [
  {
   "cell_type": "markdown",
   "id": "9848ead8-00d5-4b85-995a-d02bbffa1d14",
   "metadata": {},
   "source": [
    "<h1>Activity 2 - UK ROAD ACCIDENT DATA ANALYTICS PROJECT</h1>\n",
    "<hr>\n",
    "<h2>Analyst: Margarette Ann Felonia</h2>"
   ]
  },
  {
   "cell_type": "code",
   "execution_count": 1,
   "id": "1e5ea912-018c-4d42-8f20-f9a4249b6e74",
   "metadata": {},
   "outputs": [],
   "source": [
    "import numpy as np\n",
    "import pandas as pd\n",
    "import warnings\n",
    "warnings.filterwarnings('ignore')"
   ]
  },
  {
   "cell_type": "markdown",
   "id": "a023a0ec-12a5-4297-8043-142405bb73ee",
   "metadata": {},
   "source": [
    "<h2>Converting Dataset(s) into Dataframe</h2>\n",
    "<hr>"
   ]
  },
  {
   "cell_type": "code",
   "execution_count": 2,
   "id": "b578aaa2-f190-48fc-aba9-134c498b4ad8",
   "metadata": {},
   "outputs": [],
   "source": [
    "accident = pd.read_csv(\"datasets//uk_road_accident.csv\")"
   ]
  },
  {
   "cell_type": "code",
   "execution_count": 3,
   "id": "95a13e3e-e36d-47f7-9ed2-3ca185610197",
   "metadata": {},
   "outputs": [
    {
     "data": {
      "text/html": [
       "<div>\n",
       "<style scoped>\n",
       "    .dataframe tbody tr th:only-of-type {\n",
       "        vertical-align: middle;\n",
       "    }\n",
       "\n",
       "    .dataframe tbody tr th {\n",
       "        vertical-align: top;\n",
       "    }\n",
       "\n",
       "    .dataframe thead th {\n",
       "        text-align: right;\n",
       "    }\n",
       "</style>\n",
       "<table border=\"1\" class=\"dataframe\">\n",
       "  <thead>\n",
       "    <tr style=\"text-align: right;\">\n",
       "      <th></th>\n",
       "      <th>Index</th>\n",
       "      <th>Accident_Severity</th>\n",
       "      <th>Accident Date</th>\n",
       "      <th>Latitude</th>\n",
       "      <th>Light_Conditions</th>\n",
       "      <th>District Area</th>\n",
       "      <th>Longitude</th>\n",
       "      <th>Number_of_Casualties</th>\n",
       "      <th>Number_of_Vehicles</th>\n",
       "      <th>Road_Surface_Conditions</th>\n",
       "      <th>Road_Type</th>\n",
       "      <th>Urban_or_Rural_Area</th>\n",
       "      <th>Weather_Conditions</th>\n",
       "      <th>Vehicle_Type</th>\n",
       "    </tr>\n",
       "  </thead>\n",
       "  <tbody>\n",
       "    <tr>\n",
       "      <th>0</th>\n",
       "      <td>200701BS64157</td>\n",
       "      <td>Serious</td>\n",
       "      <td>5/6/2019</td>\n",
       "      <td>51.506187</td>\n",
       "      <td>Darkness - lights lit</td>\n",
       "      <td>Kensington and Chelsea</td>\n",
       "      <td>-0.209082</td>\n",
       "      <td>1</td>\n",
       "      <td>2</td>\n",
       "      <td>Dry</td>\n",
       "      <td>Single carriageway</td>\n",
       "      <td>Urban</td>\n",
       "      <td>Fine no high winds</td>\n",
       "      <td>Car</td>\n",
       "    </tr>\n",
       "    <tr>\n",
       "      <th>1</th>\n",
       "      <td>200701BS65737</td>\n",
       "      <td>Serious</td>\n",
       "      <td>2/7/2019</td>\n",
       "      <td>51.495029</td>\n",
       "      <td>Daylight</td>\n",
       "      <td>Kensington and Chelsea</td>\n",
       "      <td>-0.173647</td>\n",
       "      <td>1</td>\n",
       "      <td>2</td>\n",
       "      <td>Wet or damp</td>\n",
       "      <td>Single carriageway</td>\n",
       "      <td>Urban</td>\n",
       "      <td>Raining no high winds</td>\n",
       "      <td>Car</td>\n",
       "    </tr>\n",
       "    <tr>\n",
       "      <th>2</th>\n",
       "      <td>200701BS66127</td>\n",
       "      <td>Serious</td>\n",
       "      <td>26-08-2019</td>\n",
       "      <td>51.517715</td>\n",
       "      <td>Darkness - lighting unknown</td>\n",
       "      <td>Kensington and Chelsea</td>\n",
       "      <td>-0.210215</td>\n",
       "      <td>1</td>\n",
       "      <td>3</td>\n",
       "      <td>Dry</td>\n",
       "      <td>NaN</td>\n",
       "      <td>Urban</td>\n",
       "      <td>NaN</td>\n",
       "      <td>Taxi/Private hire car</td>\n",
       "    </tr>\n",
       "    <tr>\n",
       "      <th>3</th>\n",
       "      <td>200701BS66128</td>\n",
       "      <td>Serious</td>\n",
       "      <td>16-08-2019</td>\n",
       "      <td>51.495478</td>\n",
       "      <td>Daylight</td>\n",
       "      <td>Kensington and Chelsea</td>\n",
       "      <td>-0.202731</td>\n",
       "      <td>1</td>\n",
       "      <td>4</td>\n",
       "      <td>Dry</td>\n",
       "      <td>Single carriageway</td>\n",
       "      <td>Urban</td>\n",
       "      <td>Fine no high winds</td>\n",
       "      <td>Bus or coach (17 or more pass seats)</td>\n",
       "    </tr>\n",
       "    <tr>\n",
       "      <th>4</th>\n",
       "      <td>200701BS66837</td>\n",
       "      <td>Slight</td>\n",
       "      <td>3/9/2019</td>\n",
       "      <td>51.488576</td>\n",
       "      <td>Darkness - lights lit</td>\n",
       "      <td>Kensington and Chelsea</td>\n",
       "      <td>-0.192487</td>\n",
       "      <td>1</td>\n",
       "      <td>2</td>\n",
       "      <td>Dry</td>\n",
       "      <td>NaN</td>\n",
       "      <td>Urban</td>\n",
       "      <td>NaN</td>\n",
       "      <td>Other vehicle</td>\n",
       "    </tr>\n",
       "    <tr>\n",
       "      <th>...</th>\n",
       "      <td>...</td>\n",
       "      <td>...</td>\n",
       "      <td>...</td>\n",
       "      <td>...</td>\n",
       "      <td>...</td>\n",
       "      <td>...</td>\n",
       "      <td>...</td>\n",
       "      <td>...</td>\n",
       "      <td>...</td>\n",
       "      <td>...</td>\n",
       "      <td>...</td>\n",
       "      <td>...</td>\n",
       "      <td>...</td>\n",
       "      <td>...</td>\n",
       "    </tr>\n",
       "    <tr>\n",
       "      <th>660674</th>\n",
       "      <td>201091NM01760</td>\n",
       "      <td>Slight</td>\n",
       "      <td>18-02-2022</td>\n",
       "      <td>57.374005</td>\n",
       "      <td>Daylight</td>\n",
       "      <td>Highland</td>\n",
       "      <td>-3.467828</td>\n",
       "      <td>2</td>\n",
       "      <td>1</td>\n",
       "      <td>Dry</td>\n",
       "      <td>Single carriageway</td>\n",
       "      <td>Rural</td>\n",
       "      <td>Fine no high winds</td>\n",
       "      <td>Car</td>\n",
       "    </tr>\n",
       "    <tr>\n",
       "      <th>660675</th>\n",
       "      <td>201091NM01881</td>\n",
       "      <td>Slight</td>\n",
       "      <td>21-02-2022</td>\n",
       "      <td>57.232273</td>\n",
       "      <td>Darkness - no lighting</td>\n",
       "      <td>Highland</td>\n",
       "      <td>-3.809281</td>\n",
       "      <td>1</td>\n",
       "      <td>1</td>\n",
       "      <td>Frost or ice</td>\n",
       "      <td>Single carriageway</td>\n",
       "      <td>Rural</td>\n",
       "      <td>Fine no high winds</td>\n",
       "      <td>Car</td>\n",
       "    </tr>\n",
       "    <tr>\n",
       "      <th>660676</th>\n",
       "      <td>201091NM01935</td>\n",
       "      <td>Slight</td>\n",
       "      <td>23-02-2022</td>\n",
       "      <td>57.585044</td>\n",
       "      <td>Daylight</td>\n",
       "      <td>Highland</td>\n",
       "      <td>-3.862727</td>\n",
       "      <td>1</td>\n",
       "      <td>3</td>\n",
       "      <td>Frost or ice</td>\n",
       "      <td>Single carriageway</td>\n",
       "      <td>Rural</td>\n",
       "      <td>Fine no high winds</td>\n",
       "      <td>Car</td>\n",
       "    </tr>\n",
       "    <tr>\n",
       "      <th>660677</th>\n",
       "      <td>201091NM01964</td>\n",
       "      <td>Serious</td>\n",
       "      <td>23-02-2022</td>\n",
       "      <td>57.214898</td>\n",
       "      <td>Darkness - no lighting</td>\n",
       "      <td>Highland</td>\n",
       "      <td>-3.823997</td>\n",
       "      <td>1</td>\n",
       "      <td>2</td>\n",
       "      <td>Wet or damp</td>\n",
       "      <td>Single carriageway</td>\n",
       "      <td>Rural</td>\n",
       "      <td>Fine no high winds</td>\n",
       "      <td>Motorcycle over 500cc</td>\n",
       "    </tr>\n",
       "    <tr>\n",
       "      <th>660678</th>\n",
       "      <td>201091NM02142</td>\n",
       "      <td>Serious</td>\n",
       "      <td>28-02-2022</td>\n",
       "      <td>57.575210</td>\n",
       "      <td>Daylight</td>\n",
       "      <td>Highland</td>\n",
       "      <td>-3.895673</td>\n",
       "      <td>1</td>\n",
       "      <td>1</td>\n",
       "      <td>Wet or damp</td>\n",
       "      <td>Dual carriageway</td>\n",
       "      <td>Rural</td>\n",
       "      <td>Snowing no high winds</td>\n",
       "      <td>Car</td>\n",
       "    </tr>\n",
       "  </tbody>\n",
       "</table>\n",
       "<p>660679 rows × 14 columns</p>\n",
       "</div>"
      ],
      "text/plain": [
       "                Index Accident_Severity Accident Date   Latitude  \\\n",
       "0       200701BS64157           Serious      5/6/2019  51.506187   \n",
       "1       200701BS65737           Serious      2/7/2019  51.495029   \n",
       "2       200701BS66127           Serious    26-08-2019  51.517715   \n",
       "3       200701BS66128           Serious    16-08-2019  51.495478   \n",
       "4       200701BS66837            Slight      3/9/2019  51.488576   \n",
       "...               ...               ...           ...        ...   \n",
       "660674  201091NM01760            Slight    18-02-2022  57.374005   \n",
       "660675  201091NM01881            Slight    21-02-2022  57.232273   \n",
       "660676  201091NM01935            Slight    23-02-2022  57.585044   \n",
       "660677  201091NM01964           Serious    23-02-2022  57.214898   \n",
       "660678  201091NM02142           Serious    28-02-2022  57.575210   \n",
       "\n",
       "                   Light_Conditions           District Area  Longitude  \\\n",
       "0             Darkness - lights lit  Kensington and Chelsea  -0.209082   \n",
       "1                          Daylight  Kensington and Chelsea  -0.173647   \n",
       "2       Darkness - lighting unknown  Kensington and Chelsea  -0.210215   \n",
       "3                          Daylight  Kensington and Chelsea  -0.202731   \n",
       "4             Darkness - lights lit  Kensington and Chelsea  -0.192487   \n",
       "...                             ...                     ...        ...   \n",
       "660674                     Daylight                Highland  -3.467828   \n",
       "660675       Darkness - no lighting                Highland  -3.809281   \n",
       "660676                     Daylight                Highland  -3.862727   \n",
       "660677       Darkness - no lighting                Highland  -3.823997   \n",
       "660678                     Daylight                Highland  -3.895673   \n",
       "\n",
       "        Number_of_Casualties  Number_of_Vehicles Road_Surface_Conditions  \\\n",
       "0                          1                   2                     Dry   \n",
       "1                          1                   2             Wet or damp   \n",
       "2                          1                   3                     Dry   \n",
       "3                          1                   4                     Dry   \n",
       "4                          1                   2                     Dry   \n",
       "...                      ...                 ...                     ...   \n",
       "660674                     2                   1                     Dry   \n",
       "660675                     1                   1            Frost or ice   \n",
       "660676                     1                   3            Frost or ice   \n",
       "660677                     1                   2             Wet or damp   \n",
       "660678                     1                   1             Wet or damp   \n",
       "\n",
       "                 Road_Type Urban_or_Rural_Area     Weather_Conditions  \\\n",
       "0       Single carriageway               Urban     Fine no high winds   \n",
       "1       Single carriageway               Urban  Raining no high winds   \n",
       "2                      NaN               Urban                    NaN   \n",
       "3       Single carriageway               Urban     Fine no high winds   \n",
       "4                      NaN               Urban                    NaN   \n",
       "...                    ...                 ...                    ...   \n",
       "660674  Single carriageway               Rural     Fine no high winds   \n",
       "660675  Single carriageway               Rural     Fine no high winds   \n",
       "660676  Single carriageway               Rural     Fine no high winds   \n",
       "660677  Single carriageway               Rural     Fine no high winds   \n",
       "660678    Dual carriageway               Rural  Snowing no high winds   \n",
       "\n",
       "                                Vehicle_Type  \n",
       "0                                        Car  \n",
       "1                                        Car  \n",
       "2                      Taxi/Private hire car  \n",
       "3       Bus or coach (17 or more pass seats)  \n",
       "4                              Other vehicle  \n",
       "...                                      ...  \n",
       "660674                                   Car  \n",
       "660675                                   Car  \n",
       "660676                                   Car  \n",
       "660677                 Motorcycle over 500cc  \n",
       "660678                                   Car  \n",
       "\n",
       "[660679 rows x 14 columns]"
      ]
     },
     "execution_count": 3,
     "metadata": {},
     "output_type": "execute_result"
    }
   ],
   "source": [
    "accident"
   ]
  },
  {
   "cell_type": "code",
   "execution_count": 4,
   "id": "7b44ce16-375b-4346-80ad-50dff1753791",
   "metadata": {},
   "outputs": [
    {
     "data": {
      "text/html": [
       "<div>\n",
       "<style scoped>\n",
       "    .dataframe tbody tr th:only-of-type {\n",
       "        vertical-align: middle;\n",
       "    }\n",
       "\n",
       "    .dataframe tbody tr th {\n",
       "        vertical-align: top;\n",
       "    }\n",
       "\n",
       "    .dataframe thead th {\n",
       "        text-align: right;\n",
       "    }\n",
       "</style>\n",
       "<table border=\"1\" class=\"dataframe\">\n",
       "  <thead>\n",
       "    <tr style=\"text-align: right;\">\n",
       "      <th></th>\n",
       "      <th>Latitude</th>\n",
       "      <th>Longitude</th>\n",
       "      <th>Number_of_Casualties</th>\n",
       "      <th>Number_of_Vehicles</th>\n",
       "    </tr>\n",
       "  </thead>\n",
       "  <tbody>\n",
       "    <tr>\n",
       "      <th>count</th>\n",
       "      <td>660654.000000</td>\n",
       "      <td>660653.000000</td>\n",
       "      <td>660679.000000</td>\n",
       "      <td>660679.000000</td>\n",
       "    </tr>\n",
       "    <tr>\n",
       "      <th>mean</th>\n",
       "      <td>52.553866</td>\n",
       "      <td>-1.431210</td>\n",
       "      <td>1.357040</td>\n",
       "      <td>1.831255</td>\n",
       "    </tr>\n",
       "    <tr>\n",
       "      <th>std</th>\n",
       "      <td>1.406922</td>\n",
       "      <td>1.383330</td>\n",
       "      <td>0.824847</td>\n",
       "      <td>0.715269</td>\n",
       "    </tr>\n",
       "    <tr>\n",
       "      <th>min</th>\n",
       "      <td>49.914430</td>\n",
       "      <td>-7.516225</td>\n",
       "      <td>1.000000</td>\n",
       "      <td>1.000000</td>\n",
       "    </tr>\n",
       "    <tr>\n",
       "      <th>25%</th>\n",
       "      <td>51.490690</td>\n",
       "      <td>-2.332291</td>\n",
       "      <td>1.000000</td>\n",
       "      <td>1.000000</td>\n",
       "    </tr>\n",
       "    <tr>\n",
       "      <th>50%</th>\n",
       "      <td>52.315641</td>\n",
       "      <td>-1.411667</td>\n",
       "      <td>1.000000</td>\n",
       "      <td>2.000000</td>\n",
       "    </tr>\n",
       "    <tr>\n",
       "      <th>75%</th>\n",
       "      <td>53.453452</td>\n",
       "      <td>-0.232869</td>\n",
       "      <td>1.000000</td>\n",
       "      <td>2.000000</td>\n",
       "    </tr>\n",
       "    <tr>\n",
       "      <th>max</th>\n",
       "      <td>60.757544</td>\n",
       "      <td>1.762010</td>\n",
       "      <td>68.000000</td>\n",
       "      <td>32.000000</td>\n",
       "    </tr>\n",
       "  </tbody>\n",
       "</table>\n",
       "</div>"
      ],
      "text/plain": [
       "            Latitude      Longitude  Number_of_Casualties  Number_of_Vehicles\n",
       "count  660654.000000  660653.000000         660679.000000       660679.000000\n",
       "mean       52.553866      -1.431210              1.357040            1.831255\n",
       "std         1.406922       1.383330              0.824847            0.715269\n",
       "min        49.914430      -7.516225              1.000000            1.000000\n",
       "25%        51.490690      -2.332291              1.000000            1.000000\n",
       "50%        52.315641      -1.411667              1.000000            2.000000\n",
       "75%        53.453452      -0.232869              1.000000            2.000000\n",
       "max        60.757544       1.762010             68.000000           32.000000"
      ]
     },
     "execution_count": 4,
     "metadata": {},
     "output_type": "execute_result"
    }
   ],
   "source": [
    "accident.describe()"
   ]
  },
  {
   "cell_type": "code",
   "execution_count": 5,
   "id": "905802bc-ffb3-46f5-9ac3-7d971b1308b4",
   "metadata": {},
   "outputs": [
    {
     "data": {
      "text/html": [
       "<div>\n",
       "<style scoped>\n",
       "    .dataframe tbody tr th:only-of-type {\n",
       "        vertical-align: middle;\n",
       "    }\n",
       "\n",
       "    .dataframe tbody tr th {\n",
       "        vertical-align: top;\n",
       "    }\n",
       "\n",
       "    .dataframe thead th {\n",
       "        text-align: right;\n",
       "    }\n",
       "</style>\n",
       "<table border=\"1\" class=\"dataframe\">\n",
       "  <thead>\n",
       "    <tr style=\"text-align: right;\">\n",
       "      <th></th>\n",
       "      <th>count</th>\n",
       "      <th>mean</th>\n",
       "      <th>std</th>\n",
       "      <th>min</th>\n",
       "      <th>25%</th>\n",
       "      <th>50%</th>\n",
       "      <th>75%</th>\n",
       "      <th>max</th>\n",
       "    </tr>\n",
       "  </thead>\n",
       "  <tbody>\n",
       "    <tr>\n",
       "      <th>Latitude</th>\n",
       "      <td>660654.0</td>\n",
       "      <td>52.553866</td>\n",
       "      <td>1.406922</td>\n",
       "      <td>49.914430</td>\n",
       "      <td>51.490690</td>\n",
       "      <td>52.315641</td>\n",
       "      <td>53.453452</td>\n",
       "      <td>60.757544</td>\n",
       "    </tr>\n",
       "    <tr>\n",
       "      <th>Longitude</th>\n",
       "      <td>660653.0</td>\n",
       "      <td>-1.431210</td>\n",
       "      <td>1.383330</td>\n",
       "      <td>-7.516225</td>\n",
       "      <td>-2.332291</td>\n",
       "      <td>-1.411667</td>\n",
       "      <td>-0.232869</td>\n",
       "      <td>1.762010</td>\n",
       "    </tr>\n",
       "    <tr>\n",
       "      <th>Number_of_Casualties</th>\n",
       "      <td>660679.0</td>\n",
       "      <td>1.357040</td>\n",
       "      <td>0.824847</td>\n",
       "      <td>1.000000</td>\n",
       "      <td>1.000000</td>\n",
       "      <td>1.000000</td>\n",
       "      <td>1.000000</td>\n",
       "      <td>68.000000</td>\n",
       "    </tr>\n",
       "    <tr>\n",
       "      <th>Number_of_Vehicles</th>\n",
       "      <td>660679.0</td>\n",
       "      <td>1.831255</td>\n",
       "      <td>0.715269</td>\n",
       "      <td>1.000000</td>\n",
       "      <td>1.000000</td>\n",
       "      <td>2.000000</td>\n",
       "      <td>2.000000</td>\n",
       "      <td>32.000000</td>\n",
       "    </tr>\n",
       "  </tbody>\n",
       "</table>\n",
       "</div>"
      ],
      "text/plain": [
       "                         count       mean       std        min        25%  \\\n",
       "Latitude              660654.0  52.553866  1.406922  49.914430  51.490690   \n",
       "Longitude             660653.0  -1.431210  1.383330  -7.516225  -2.332291   \n",
       "Number_of_Casualties  660679.0   1.357040  0.824847   1.000000   1.000000   \n",
       "Number_of_Vehicles    660679.0   1.831255  0.715269   1.000000   1.000000   \n",
       "\n",
       "                            50%        75%        max  \n",
       "Latitude              52.315641  53.453452  60.757544  \n",
       "Longitude             -1.411667  -0.232869   1.762010  \n",
       "Number_of_Casualties   1.000000   1.000000  68.000000  \n",
       "Number_of_Vehicles     2.000000   2.000000  32.000000  "
      ]
     },
     "execution_count": 5,
     "metadata": {},
     "output_type": "execute_result"
    }
   ],
   "source": [
    "accident.describe().T"
   ]
  },
  {
   "cell_type": "markdown",
   "id": "7a00a99b-4b96-4436-ad51-983568952db6",
   "metadata": {},
   "source": [
    "<h1>Checking the null values</h1>\n",
    "<hr>"
   ]
  },
  {
   "cell_type": "code",
   "execution_count": 6,
   "id": "b43adf1f-d385-4517-af9c-80170e6aa0e6",
   "metadata": {},
   "outputs": [
    {
     "data": {
      "text/plain": [
       "Index                          0\n",
       "Accident_Severity              0\n",
       "Accident Date                  0\n",
       "Latitude                      25\n",
       "Light_Conditions               0\n",
       "District Area                  0\n",
       "Longitude                     26\n",
       "Number_of_Casualties           0\n",
       "Number_of_Vehicles             0\n",
       "Road_Surface_Conditions      726\n",
       "Road_Type                   4520\n",
       "Urban_or_Rural_Area           15\n",
       "Weather_Conditions         14128\n",
       "Vehicle_Type                   0\n",
       "dtype: int64"
      ]
     },
     "execution_count": 6,
     "metadata": {},
     "output_type": "execute_result"
    }
   ],
   "source": [
    "accident.isnull().sum()"
   ]
  },
  {
   "cell_type": "markdown",
   "id": "2d8d10b2-e71b-4421-86dd-2c7fb992a825",
   "metadata": {},
   "source": [
    "<h1>Filling the null values</h1>\n",
    "<hr>"
   ]
  },
  {
   "cell_type": "code",
   "execution_count": 7,
   "id": "4d9ae2a5-eedc-4c72-883d-65abd0e68bd5",
   "metadata": {},
   "outputs": [],
   "source": [
    "accident['Latitude'] = accident['Latitude'].fillna(accident['Latitude'].mean())\n",
    "accident['Longitude'] = accident['Longitude'].fillna(accident['Longitude'].mean())\n",
    "accident['Road_Surface_Conditions'] = accident['Road_Surface_Conditions'].fillna(accident['Road_Surface_Conditions'].mode()[0])\n",
    "accident['Road_Type'] = accident['Road_Type'].fillna(accident['Road_Type'].mode()[0])\n",
    "accident['Urban_or_Rural_Area'] = accident['Urban_or_Rural_Area'].fillna(accident['Urban_or_Rural_Area'].mode()[0])\n",
    "accident['Weather_Conditions'] = accident['Weather_Conditions'].fillna(accident['Weather_Conditions'].mode()[0])"
   ]
  },
  {
   "cell_type": "code",
   "execution_count": 8,
   "id": "228e5466-0dd9-4179-b4c9-defe6080a763",
   "metadata": {},
   "outputs": [
    {
     "data": {
      "text/plain": [
       "Index                      0\n",
       "Accident_Severity          0\n",
       "Accident Date              0\n",
       "Latitude                   0\n",
       "Light_Conditions           0\n",
       "District Area              0\n",
       "Longitude                  0\n",
       "Number_of_Casualties       0\n",
       "Number_of_Vehicles         0\n",
       "Road_Surface_Conditions    0\n",
       "Road_Type                  0\n",
       "Urban_or_Rural_Area        0\n",
       "Weather_Conditions         0\n",
       "Vehicle_Type               0\n",
       "dtype: int64"
      ]
     },
     "execution_count": 8,
     "metadata": {},
     "output_type": "execute_result"
    }
   ],
   "source": [
    "accident.isnull().sum()"
   ]
  },
  {
   "cell_type": "code",
   "execution_count": 9,
   "id": "5b164d7c-6879-426d-b6ef-f38a1f06886e",
   "metadata": {},
   "outputs": [
    {
     "name": "stdout",
     "output_type": "stream",
     "text": [
      "<class 'pandas.core.frame.DataFrame'>\n",
      "RangeIndex: 660679 entries, 0 to 660678\n",
      "Data columns (total 14 columns):\n",
      " #   Column                   Non-Null Count   Dtype  \n",
      "---  ------                   --------------   -----  \n",
      " 0   Index                    660679 non-null  object \n",
      " 1   Accident_Severity        660679 non-null  object \n",
      " 2   Accident Date            660679 non-null  object \n",
      " 3   Latitude                 660679 non-null  float64\n",
      " 4   Light_Conditions         660679 non-null  object \n",
      " 5   District Area            660679 non-null  object \n",
      " 6   Longitude                660679 non-null  float64\n",
      " 7   Number_of_Casualties     660679 non-null  int64  \n",
      " 8   Number_of_Vehicles       660679 non-null  int64  \n",
      " 9   Road_Surface_Conditions  660679 non-null  object \n",
      " 10  Road_Type                660679 non-null  object \n",
      " 11  Urban_or_Rural_Area      660679 non-null  object \n",
      " 12  Weather_Conditions       660679 non-null  object \n",
      " 13  Vehicle_Type             660679 non-null  object \n",
      "dtypes: float64(2), int64(2), object(10)\n",
      "memory usage: 70.6+ MB\n"
     ]
    }
   ],
   "source": [
    "accident.info()"
   ]
  },
  {
   "cell_type": "markdown",
   "id": "350deced-786f-4414-8b04-5d9853128a6a",
   "metadata": {},
   "source": [
    "<h1>Changing the Data type</h1>\n",
    "<hr>"
   ]
  },
  {
   "cell_type": "code",
   "execution_count": 10,
   "id": "41c41456-f8b6-4878-91b7-6124cacb4261",
   "metadata": {},
   "outputs": [],
   "source": [
    "accident['Index']= accident['Index'].astype('category')\n",
    "accident['Accident_Severity']= accident['Accident_Severity'].astype('category')\n",
    "accident['Accident Date']= accident['Accident Date'].astype('category')\n",
    "accident['Light_Conditions']= accident['Light_Conditions'].astype('category')\n",
    "accident['District Area']= accident['District Area'].astype('category')\n",
    "accident['Road_Surface_Conditions']= accident['Road_Surface_Conditions'].astype('category')\n",
    "accident['Road_Type']= accident['Road_Type'].astype('category')\n",
    "accident['Urban_or_Rural_Area']= accident['Urban_or_Rural_Area'].astype('category')\n",
    "accident['Weather_Conditions']= accident['Weather_Conditions'].astype('category')\n",
    "accident['Vehicle_Type']= accident['Vehicle_Type'].astype('category')"
   ]
  },
  {
   "cell_type": "code",
   "execution_count": 11,
   "id": "af1492ac-9be1-4f2f-9e87-50cbd2e137e3",
   "metadata": {},
   "outputs": [
    {
     "name": "stdout",
     "output_type": "stream",
     "text": [
      "<class 'pandas.core.frame.DataFrame'>\n",
      "RangeIndex: 660679 entries, 0 to 660678\n",
      "Data columns (total 14 columns):\n",
      " #   Column                   Non-Null Count   Dtype   \n",
      "---  ------                   --------------   -----   \n",
      " 0   Index                    660679 non-null  category\n",
      " 1   Accident_Severity        660679 non-null  category\n",
      " 2   Accident Date            660679 non-null  category\n",
      " 3   Latitude                 660679 non-null  float64 \n",
      " 4   Light_Conditions         660679 non-null  category\n",
      " 5   District Area            660679 non-null  category\n",
      " 6   Longitude                660679 non-null  float64 \n",
      " 7   Number_of_Casualties     660679 non-null  int64   \n",
      " 8   Number_of_Vehicles       660679 non-null  int64   \n",
      " 9   Road_Surface_Conditions  660679 non-null  category\n",
      " 10  Road_Type                660679 non-null  category\n",
      " 11  Urban_or_Rural_Area      660679 non-null  category\n",
      " 12  Weather_Conditions       660679 non-null  category\n",
      " 13  Vehicle_Type             660679 non-null  category\n",
      "dtypes: category(10), float64(2), int64(2)\n",
      "memory usage: 49.0 MB\n"
     ]
    }
   ],
   "source": [
    "accident.info()"
   ]
  },
  {
   "cell_type": "markdown",
   "id": "abadf00d-da09-46db-a813-420e6b2f7cd4",
   "metadata": {},
   "source": [
    "<h2>Clearing Inconsitencies with the Data Set</h2>"
   ]
  },
  {
   "cell_type": "code",
   "execution_count": 12,
   "id": "834b967e-9572-42f5-82bb-f9f9dbc820d9",
   "metadata": {},
   "outputs": [],
   "source": [
    "accident['Accident Date'] = accident['Accident Date'].str.strip()\n",
    "accident['Accident Date'] = accident['Accident Date'].astype('str')\n",
    "accident['Accident Date'] = accident['Accident Date'].str.replace('/', '-')"
   ]
  },
  {
   "cell_type": "code",
   "execution_count": 13,
   "id": "f1a74a61-80eb-4f68-9aa9-a90903944392",
   "metadata": {},
   "outputs": [],
   "source": [
    "accident['Accident Date'] = pd.to_datetime(accident['Accident Date'], dayfirst = True, errors = 'coerce')"
   ]
  },
  {
   "cell_type": "markdown",
   "id": "06f39ad5-7c44-4cbd-97a1-9d1343c7549a",
   "metadata": {},
   "source": [
    "<h3>Adjusting Data types</h3>"
   ]
  },
  {
   "cell_type": "code",
   "execution_count": 14,
   "id": "bf9a1951-9ad8-4475-ac1b-2cbb027eef52",
   "metadata": {},
   "outputs": [
    {
     "data": {
      "text/plain": [
       "Index                            category\n",
       "Accident_Severity                category\n",
       "Accident Date              datetime64[ns]\n",
       "Latitude                          float64\n",
       "Light_Conditions                 category\n",
       "District Area                    category\n",
       "Longitude                         float64\n",
       "Number_of_Casualties                int64\n",
       "Number_of_Vehicles                  int64\n",
       "Road_Surface_Conditions          category\n",
       "Road_Type                        category\n",
       "Urban_or_Rural_Area              category\n",
       "Weather_Conditions               category\n",
       "Vehicle_Type                     category\n",
       "dtype: object"
      ]
     },
     "execution_count": 14,
     "metadata": {},
     "output_type": "execute_result"
    }
   ],
   "source": [
    "accident.dtypes"
   ]
  },
  {
   "cell_type": "code",
   "execution_count": 15,
   "id": "928100dc-8ae9-4dcd-9067-fea8f6fd9303",
   "metadata": {},
   "outputs": [
    {
     "data": {
      "text/plain": [
       "Index                      0\n",
       "Accident_Severity          0\n",
       "Accident Date              0\n",
       "Latitude                   0\n",
       "Light_Conditions           0\n",
       "District Area              0\n",
       "Longitude                  0\n",
       "Number_of_Casualties       0\n",
       "Number_of_Vehicles         0\n",
       "Road_Surface_Conditions    0\n",
       "Road_Type                  0\n",
       "Urban_or_Rural_Area        0\n",
       "Weather_Conditions         0\n",
       "Vehicle_Type               0\n",
       "dtype: int64"
      ]
     },
     "execution_count": 15,
     "metadata": {},
     "output_type": "execute_result"
    }
   ],
   "source": [
    "accident.isnull().sum()"
   ]
  },
  {
   "cell_type": "markdown",
   "id": "5aef66d6-952a-4a16-9679-9b8a0ceac308",
   "metadata": {},
   "source": [
    "<h2>Extracting Date information using pandas date time</h2>"
   ]
  },
  {
   "cell_type": "code",
   "execution_count": 16,
   "id": "e0121fba-ba79-4bb2-a359-52aa53f0f34b",
   "metadata": {},
   "outputs": [],
   "source": [
    "accident['Year'] = accident['Accident Date'].dt.year\n",
    "accident['Month'] = accident['Accident Date'].dt.month\n",
    "accident['Day'] = accident['Accident Date'].dt.day\n",
    "accident['DayOfWeek'] = accident['Accident Date'].dt.dayofweek"
   ]
  },
  {
   "cell_type": "code",
   "execution_count": 17,
   "id": "1ff34213-940e-47b1-8a76-56a61cbe6924",
   "metadata": {},
   "outputs": [
    {
     "data": {
      "text/plain": [
       "Index                      0\n",
       "Accident_Severity          0\n",
       "Accident Date              0\n",
       "Latitude                   0\n",
       "Light_Conditions           0\n",
       "District Area              0\n",
       "Longitude                  0\n",
       "Number_of_Casualties       0\n",
       "Number_of_Vehicles         0\n",
       "Road_Surface_Conditions    0\n",
       "Road_Type                  0\n",
       "Urban_or_Rural_Area        0\n",
       "Weather_Conditions         0\n",
       "Vehicle_Type               0\n",
       "Year                       0\n",
       "Month                      0\n",
       "Day                        0\n",
       "DayOfWeek                  0\n",
       "dtype: int64"
      ]
     },
     "execution_count": 17,
     "metadata": {},
     "output_type": "execute_result"
    }
   ],
   "source": [
    "accident.isnull().sum()"
   ]
  },
  {
   "cell_type": "markdown",
   "id": "03023d9c-afa9-4873-87a5-5970d6f1c55b",
   "metadata": {},
   "source": [
    "<h1>Explanatory Data Analysis(EDA)</h1>\n",
    "<hr>"
   ]
  },
  {
   "cell_type": "markdown",
   "id": "ad1dd860-ee38-4eba-a179-9f35efeff9ec",
   "metadata": {},
   "source": [
    "<h3><b>Question 1</b></h3>\n",
    "<h3>What is the average number of casualties in fatal accidents?</h3>"
   ]
  },
  {
   "cell_type": "code",
   "execution_count": 18,
   "id": "a99bdaa7-c1ca-4449-9bb4-cd39b3511ec1",
   "metadata": {},
   "outputs": [],
   "source": [
    "fatal_acc = accident[(accident[\"Accident_Severity\"] == \"Fatal\") & (accident[\"Number_of_Casualties\"])]"
   ]
  },
  {
   "cell_type": "code",
   "execution_count": 19,
   "id": "55a35c12-a876-492d-995b-8c6b0dcbb901",
   "metadata": {},
   "outputs": [
    {
     "data": {
      "text/html": [
       "<div>\n",
       "<style scoped>\n",
       "    .dataframe tbody tr th:only-of-type {\n",
       "        vertical-align: middle;\n",
       "    }\n",
       "\n",
       "    .dataframe tbody tr th {\n",
       "        vertical-align: top;\n",
       "    }\n",
       "\n",
       "    .dataframe thead th {\n",
       "        text-align: right;\n",
       "    }\n",
       "</style>\n",
       "<table border=\"1\" class=\"dataframe\">\n",
       "  <thead>\n",
       "    <tr style=\"text-align: right;\">\n",
       "      <th></th>\n",
       "      <th>Index</th>\n",
       "      <th>Accident_Severity</th>\n",
       "      <th>Accident Date</th>\n",
       "      <th>Latitude</th>\n",
       "      <th>Light_Conditions</th>\n",
       "      <th>District Area</th>\n",
       "      <th>Longitude</th>\n",
       "      <th>Number_of_Casualties</th>\n",
       "      <th>Number_of_Vehicles</th>\n",
       "      <th>Road_Surface_Conditions</th>\n",
       "      <th>Road_Type</th>\n",
       "      <th>Urban_or_Rural_Area</th>\n",
       "      <th>Weather_Conditions</th>\n",
       "      <th>Vehicle_Type</th>\n",
       "      <th>Year</th>\n",
       "      <th>Month</th>\n",
       "      <th>Day</th>\n",
       "      <th>DayOfWeek</th>\n",
       "    </tr>\n",
       "  </thead>\n",
       "  <tbody>\n",
       "    <tr>\n",
       "      <th>7</th>\n",
       "      <td>200701BS67370</td>\n",
       "      <td>Fatal</td>\n",
       "      <td>2019-10-03</td>\n",
       "      <td>51.482260</td>\n",
       "      <td>Darkness - lights lit</td>\n",
       "      <td>Kensington and Chelsea</td>\n",
       "      <td>-0.179486</td>\n",
       "      <td>3</td>\n",
       "      <td>2</td>\n",
       "      <td>Dry</td>\n",
       "      <td>Single carriageway</td>\n",
       "      <td>Urban</td>\n",
       "      <td>Fine no high winds</td>\n",
       "      <td>Car</td>\n",
       "      <td>2019</td>\n",
       "      <td>10</td>\n",
       "      <td>3</td>\n",
       "      <td>3</td>\n",
       "    </tr>\n",
       "    <tr>\n",
       "      <th>11</th>\n",
       "      <td>200701BS67747</td>\n",
       "      <td>Fatal</td>\n",
       "      <td>2019-11-02</td>\n",
       "      <td>51.499127</td>\n",
       "      <td>Daylight</td>\n",
       "      <td>Kensington and Chelsea</td>\n",
       "      <td>-0.159652</td>\n",
       "      <td>1</td>\n",
       "      <td>2</td>\n",
       "      <td>Dry</td>\n",
       "      <td>Single carriageway</td>\n",
       "      <td>Urban</td>\n",
       "      <td>Fine no high winds</td>\n",
       "      <td>Bus or coach (17 or more pass seats)</td>\n",
       "      <td>2019</td>\n",
       "      <td>11</td>\n",
       "      <td>2</td>\n",
       "      <td>5</td>\n",
       "    </tr>\n",
       "    <tr>\n",
       "      <th>20</th>\n",
       "      <td>200701BS68301</td>\n",
       "      <td>Fatal</td>\n",
       "      <td>2019-10-24</td>\n",
       "      <td>51.505996</td>\n",
       "      <td>Daylight</td>\n",
       "      <td>Kensington and Chelsea</td>\n",
       "      <td>-0.214277</td>\n",
       "      <td>1</td>\n",
       "      <td>1</td>\n",
       "      <td>Dry</td>\n",
       "      <td>Single carriageway</td>\n",
       "      <td>Urban</td>\n",
       "      <td>Fine no high winds</td>\n",
       "      <td>Car</td>\n",
       "      <td>2019</td>\n",
       "      <td>10</td>\n",
       "      <td>24</td>\n",
       "      <td>3</td>\n",
       "    </tr>\n",
       "    <tr>\n",
       "      <th>21</th>\n",
       "      <td>200701BS68302</td>\n",
       "      <td>Fatal</td>\n",
       "      <td>2019-11-24</td>\n",
       "      <td>51.486795</td>\n",
       "      <td>Daylight</td>\n",
       "      <td>Kensington and Chelsea</td>\n",
       "      <td>-0.170375</td>\n",
       "      <td>5</td>\n",
       "      <td>1</td>\n",
       "      <td>Dry</td>\n",
       "      <td>Single carriageway</td>\n",
       "      <td>Urban</td>\n",
       "      <td>Fine no high winds</td>\n",
       "      <td>Car</td>\n",
       "      <td>2019</td>\n",
       "      <td>11</td>\n",
       "      <td>24</td>\n",
       "      <td>6</td>\n",
       "    </tr>\n",
       "    <tr>\n",
       "      <th>717</th>\n",
       "      <td>200701CP00032</td>\n",
       "      <td>Fatal</td>\n",
       "      <td>2019-01-30</td>\n",
       "      <td>51.510978</td>\n",
       "      <td>Daylight</td>\n",
       "      <td>City of London</td>\n",
       "      <td>-0.107581</td>\n",
       "      <td>1</td>\n",
       "      <td>2</td>\n",
       "      <td>Wet or damp</td>\n",
       "      <td>Dual carriageway</td>\n",
       "      <td>Urban</td>\n",
       "      <td>Fine no high winds</td>\n",
       "      <td>Car</td>\n",
       "      <td>2019</td>\n",
       "      <td>1</td>\n",
       "      <td>30</td>\n",
       "      <td>2</td>\n",
       "    </tr>\n",
       "    <tr>\n",
       "      <th>...</th>\n",
       "      <td>...</td>\n",
       "      <td>...</td>\n",
       "      <td>...</td>\n",
       "      <td>...</td>\n",
       "      <td>...</td>\n",
       "      <td>...</td>\n",
       "      <td>...</td>\n",
       "      <td>...</td>\n",
       "      <td>...</td>\n",
       "      <td>...</td>\n",
       "      <td>...</td>\n",
       "      <td>...</td>\n",
       "      <td>...</td>\n",
       "      <td>...</td>\n",
       "      <td>...</td>\n",
       "      <td>...</td>\n",
       "      <td>...</td>\n",
       "      <td>...</td>\n",
       "    </tr>\n",
       "    <tr>\n",
       "      <th>660470</th>\n",
       "      <td>201091NH00529</td>\n",
       "      <td>Fatal</td>\n",
       "      <td>2022-01-29</td>\n",
       "      <td>58.475726</td>\n",
       "      <td>Daylight</td>\n",
       "      <td>Western Isles</td>\n",
       "      <td>-6.278583</td>\n",
       "      <td>1</td>\n",
       "      <td>1</td>\n",
       "      <td>Wet or damp</td>\n",
       "      <td>Single carriageway</td>\n",
       "      <td>Rural</td>\n",
       "      <td>Fine + high winds</td>\n",
       "      <td>Car</td>\n",
       "      <td>2022</td>\n",
       "      <td>1</td>\n",
       "      <td>29</td>\n",
       "      <td>5</td>\n",
       "    </tr>\n",
       "    <tr>\n",
       "      <th>660519</th>\n",
       "      <td>201091NJ01533</td>\n",
       "      <td>Fatal</td>\n",
       "      <td>2022-02-02</td>\n",
       "      <td>58.495554</td>\n",
       "      <td>Daylight</td>\n",
       "      <td>Highland</td>\n",
       "      <td>-4.451628</td>\n",
       "      <td>1</td>\n",
       "      <td>1</td>\n",
       "      <td>Snow</td>\n",
       "      <td>Single carriageway</td>\n",
       "      <td>Rural</td>\n",
       "      <td>Snowing no high winds</td>\n",
       "      <td>Car</td>\n",
       "      <td>2022</td>\n",
       "      <td>2</td>\n",
       "      <td>2</td>\n",
       "      <td>2</td>\n",
       "    </tr>\n",
       "    <tr>\n",
       "      <th>660565</th>\n",
       "      <td>201091NJ11329</td>\n",
       "      <td>Fatal</td>\n",
       "      <td>2022-08-15</td>\n",
       "      <td>57.871514</td>\n",
       "      <td>Daylight</td>\n",
       "      <td>Highland</td>\n",
       "      <td>-4.243081</td>\n",
       "      <td>1</td>\n",
       "      <td>1</td>\n",
       "      <td>Dry</td>\n",
       "      <td>Single carriageway</td>\n",
       "      <td>Rural</td>\n",
       "      <td>Fine no high winds</td>\n",
       "      <td>Goods 7.5 tonnes mgw and over</td>\n",
       "      <td>2022</td>\n",
       "      <td>8</td>\n",
       "      <td>15</td>\n",
       "      <td>0</td>\n",
       "    </tr>\n",
       "    <tr>\n",
       "      <th>660581</th>\n",
       "      <td>201091NJ14695</td>\n",
       "      <td>Fatal</td>\n",
       "      <td>2022-10-21</td>\n",
       "      <td>58.445475</td>\n",
       "      <td>Darkness - lights lit</td>\n",
       "      <td>Highland</td>\n",
       "      <td>-3.065535</td>\n",
       "      <td>1</td>\n",
       "      <td>1</td>\n",
       "      <td>Wet or damp</td>\n",
       "      <td>Single carriageway</td>\n",
       "      <td>Rural</td>\n",
       "      <td>Fine no high winds</td>\n",
       "      <td>Car</td>\n",
       "      <td>2022</td>\n",
       "      <td>10</td>\n",
       "      <td>21</td>\n",
       "      <td>4</td>\n",
       "    </tr>\n",
       "    <tr>\n",
       "      <th>660627</th>\n",
       "      <td>201091NL00060</td>\n",
       "      <td>Fatal</td>\n",
       "      <td>2022-01-06</td>\n",
       "      <td>60.241195</td>\n",
       "      <td>Daylight</td>\n",
       "      <td>Shetland Islands</td>\n",
       "      <td>-1.409761</td>\n",
       "      <td>3</td>\n",
       "      <td>1</td>\n",
       "      <td>Snow</td>\n",
       "      <td>Single carriageway</td>\n",
       "      <td>Rural</td>\n",
       "      <td>Fine no high winds</td>\n",
       "      <td>Van / Goods 3.5 tonnes mgw or under</td>\n",
       "      <td>2022</td>\n",
       "      <td>1</td>\n",
       "      <td>6</td>\n",
       "      <td>3</td>\n",
       "    </tr>\n",
       "  </tbody>\n",
       "</table>\n",
       "<p>6045 rows × 18 columns</p>\n",
       "</div>"
      ],
      "text/plain": [
       "                Index Accident_Severity Accident Date   Latitude  \\\n",
       "7       200701BS67370             Fatal    2019-10-03  51.482260   \n",
       "11      200701BS67747             Fatal    2019-11-02  51.499127   \n",
       "20      200701BS68301             Fatal    2019-10-24  51.505996   \n",
       "21      200701BS68302             Fatal    2019-11-24  51.486795   \n",
       "717     200701CP00032             Fatal    2019-01-30  51.510978   \n",
       "...               ...               ...           ...        ...   \n",
       "660470  201091NH00529             Fatal    2022-01-29  58.475726   \n",
       "660519  201091NJ01533             Fatal    2022-02-02  58.495554   \n",
       "660565  201091NJ11329             Fatal    2022-08-15  57.871514   \n",
       "660581  201091NJ14695             Fatal    2022-10-21  58.445475   \n",
       "660627  201091NL00060             Fatal    2022-01-06  60.241195   \n",
       "\n",
       "             Light_Conditions           District Area  Longitude  \\\n",
       "7       Darkness - lights lit  Kensington and Chelsea  -0.179486   \n",
       "11                   Daylight  Kensington and Chelsea  -0.159652   \n",
       "20                   Daylight  Kensington and Chelsea  -0.214277   \n",
       "21                   Daylight  Kensington and Chelsea  -0.170375   \n",
       "717                  Daylight          City of London  -0.107581   \n",
       "...                       ...                     ...        ...   \n",
       "660470               Daylight           Western Isles  -6.278583   \n",
       "660519               Daylight                Highland  -4.451628   \n",
       "660565               Daylight                Highland  -4.243081   \n",
       "660581  Darkness - lights lit                Highland  -3.065535   \n",
       "660627               Daylight        Shetland Islands  -1.409761   \n",
       "\n",
       "        Number_of_Casualties  Number_of_Vehicles Road_Surface_Conditions  \\\n",
       "7                          3                   2                     Dry   \n",
       "11                         1                   2                     Dry   \n",
       "20                         1                   1                     Dry   \n",
       "21                         5                   1                     Dry   \n",
       "717                        1                   2             Wet or damp   \n",
       "...                      ...                 ...                     ...   \n",
       "660470                     1                   1             Wet or damp   \n",
       "660519                     1                   1                    Snow   \n",
       "660565                     1                   1                     Dry   \n",
       "660581                     1                   1             Wet or damp   \n",
       "660627                     3                   1                    Snow   \n",
       "\n",
       "                 Road_Type Urban_or_Rural_Area     Weather_Conditions  \\\n",
       "7       Single carriageway               Urban     Fine no high winds   \n",
       "11      Single carriageway               Urban     Fine no high winds   \n",
       "20      Single carriageway               Urban     Fine no high winds   \n",
       "21      Single carriageway               Urban     Fine no high winds   \n",
       "717       Dual carriageway               Urban     Fine no high winds   \n",
       "...                    ...                 ...                    ...   \n",
       "660470  Single carriageway               Rural      Fine + high winds   \n",
       "660519  Single carriageway               Rural  Snowing no high winds   \n",
       "660565  Single carriageway               Rural     Fine no high winds   \n",
       "660581  Single carriageway               Rural     Fine no high winds   \n",
       "660627  Single carriageway               Rural     Fine no high winds   \n",
       "\n",
       "                                Vehicle_Type  Year  Month  Day  DayOfWeek  \n",
       "7                                        Car  2019     10    3          3  \n",
       "11      Bus or coach (17 or more pass seats)  2019     11    2          5  \n",
       "20                                       Car  2019     10   24          3  \n",
       "21                                       Car  2019     11   24          6  \n",
       "717                                      Car  2019      1   30          2  \n",
       "...                                      ...   ...    ...  ...        ...  \n",
       "660470                                   Car  2022      1   29          5  \n",
       "660519                                   Car  2022      2    2          2  \n",
       "660565         Goods 7.5 tonnes mgw and over  2022      8   15          0  \n",
       "660581                                   Car  2022     10   21          4  \n",
       "660627   Van / Goods 3.5 tonnes mgw or under  2022      1    6          3  \n",
       "\n",
       "[6045 rows x 18 columns]"
      ]
     },
     "execution_count": 19,
     "metadata": {},
     "output_type": "execute_result"
    }
   ],
   "source": [
    "fatal_acc"
   ]
  },
  {
   "cell_type": "markdown",
   "id": "6675c77d-b51a-4d50-830a-a3401c7d2d53",
   "metadata": {},
   "source": [
    "<h5><b>INSIGHT:</b>Fatal accidents have an average of 1.9 casualties.\n",
    "This means most fatal crashes involve about 2 people.\n",
    "It shows that these accidents usually affect more than one person.</h5>"
   ]
  },
  {
   "cell_type": "markdown",
   "id": "fcf9e359-b9c6-4bf0-b14a-a5e276f1e9e4",
   "metadata": {},
   "source": [
    "<h3><b>Question 2</b></h3>\n",
    "<h3>Districts with more than 10 accidents involving ≥ 4 vehicles</h3>"
   ]
  },
  {
   "cell_type": "code",
   "execution_count": 20,
   "id": "3272002f-cec6-4d56-a00a-1bde29883bf3",
   "metadata": {},
   "outputs": [
    {
     "data": {
      "text/plain": [
       "District Area\n",
       "Aberdeen City    18\n",
       "Aberdeenshire    21\n",
       "Adur             32\n",
       "Allerdale        24\n",
       "Amber Valley     34\n",
       "                 ..\n",
       "Wychavon         37\n",
       "Wycombe          52\n",
       "Wyre             25\n",
       "Wyre Forest      14\n",
       "York             40\n",
       "Length: 373, dtype: int64"
      ]
     },
     "execution_count": 20,
     "metadata": {},
     "output_type": "execute_result"
    }
   ],
   "source": [
    "big_accidents = accident[accident['Number_of_Vehicles'] >= 4].groupby('District Area').size()\n",
    "big_accidents[big_accidents > 10]"
   ]
  },
  {
   "cell_type": "markdown",
   "id": "090ded16-f76b-4f92-bca6-743eed23b392",
   "metadata": {},
   "source": [
    "<h5><b>INSIGHT:</b>Some districts had many big crashes with 4 or more cars. This means heavy traffic places are more at risk. When more cars are involved, the damage and injuries can be worse.</h5>"
   ]
  },
  {
   "cell_type": "markdown",
   "id": "d6b2c284-7377-456d-bfad-628b9ca91c54",
   "metadata": {},
   "source": [
    "<h3><b>Question 3</b></h3>\n",
    "<h3> Average casualties by road surface and light condition</h3>"
   ]
  },
  {
   "cell_type": "code",
   "execution_count": 21,
   "id": "5aba2c16-4490-4b65-8dd2-c6dd96fd4b1b",
   "metadata": {},
   "outputs": [],
   "source": [
    "casualties_grouped = accident.groupby(['Road_Surface_Conditions','Light_Conditions'])['Number_of_Casualties'].mean()"
   ]
  },
  {
   "cell_type": "code",
   "execution_count": 22,
   "id": "3c7e1e0e-88fe-45f6-a299-33cd0504266a",
   "metadata": {},
   "outputs": [
    {
     "data": {
      "text/plain": [
       "Road_Surface_Conditions  Light_Conditions           \n",
       "Dry                      Darkness - lighting unknown    1.297072\n",
       "                         Darkness - lights lit          1.352732\n",
       "                         Darkness - lights unlit        1.301622\n",
       "                         Darkness - no lighting         1.567877\n",
       "                         Daylight                       1.321303\n",
       "Flood over 3cm. deep     Darkness - lighting unknown    1.466667\n",
       "                         Darkness - lights lit          1.525000\n",
       "                         Darkness - lights unlit        3.500000\n",
       "                         Darkness - no lighting         1.411321\n",
       "                         Daylight                       1.513089\n",
       "Frost or ice             Darkness - lighting unknown    1.281124\n",
       "                         Darkness - lights lit          1.366371\n",
       "                         Darkness - lights unlit        1.353846\n",
       "                         Darkness - no lighting         1.408670\n",
       "                         Daylight                       1.322749\n",
       "Snow                     Darkness - lighting unknown    1.219048\n",
       "                         Darkness - lights lit          1.341525\n",
       "                         Darkness - lights unlit        1.269231\n",
       "                         Darkness - no lighting         1.418758\n",
       "                         Daylight                       1.359883\n",
       "Wet or damp              Darkness - lighting unknown    1.339104\n",
       "                         Darkness - lights lit          1.392372\n",
       "                         Darkness - lights unlit        1.360273\n",
       "                         Darkness - no lighting         1.550964\n",
       "                         Daylight                       1.399811\n",
       "Name: Number_of_Casualties, dtype: float64"
      ]
     },
     "execution_count": 22,
     "metadata": {},
     "output_type": "execute_result"
    }
   ],
   "source": [
    "casualties_grouped"
   ]
  },
  {
   "cell_type": "markdown",
   "id": "050fab76-8615-48ec-9317-715fdf2a3267",
   "metadata": {},
   "source": [
    "<h5><b>INSIGHT:</b>The average casualties are usually around 1.3 to 1.5 across conditions.\n",
    "The highest was 3.5 casualties on snow in unlit darkness.\n",
    "Daylight values are slightly lower at around 1.3.</h5>"
   ]
  },
  {
   "cell_type": "markdown",
   "id": "981bb78b-176f-4e17-b318-7a01352f4d19",
   "metadata": {},
   "source": [
    "<h3><b>Question 4</b></h3>\n",
    "<h3>Total fatal accident in rural areas</h3>"
   ]
  },
  {
   "cell_type": "code",
   "execution_count": 23,
   "id": "0010b365-6c14-46ad-aba0-60a20b139174",
   "metadata": {},
   "outputs": [],
   "source": [
    "fatal_total = accident[(accident['Accident_Severity'] == \"Fatal\") & (accident['Urban_or_Rural_Area'] == \"Urban\")]"
   ]
  },
  {
   "cell_type": "code",
   "execution_count": 24,
   "id": "278d78e6-773c-4f7f-8d58-051ba49c38ea",
   "metadata": {},
   "outputs": [
    {
     "data": {
      "text/plain": [
       "np.int64(3060)"
      ]
     },
     "execution_count": 24,
     "metadata": {},
     "output_type": "execute_result"
    }
   ],
   "source": [
    "fatal_total.value_counts().sum()"
   ]
  },
  {
   "cell_type": "code",
   "execution_count": 25,
   "id": "4dd77b26-c185-41d4-9aed-6840c2c856de",
   "metadata": {},
   "outputs": [
    {
     "data": {
      "text/html": [
       "<div>\n",
       "<style scoped>\n",
       "    .dataframe tbody tr th:only-of-type {\n",
       "        vertical-align: middle;\n",
       "    }\n",
       "\n",
       "    .dataframe tbody tr th {\n",
       "        vertical-align: top;\n",
       "    }\n",
       "\n",
       "    .dataframe thead th {\n",
       "        text-align: right;\n",
       "    }\n",
       "</style>\n",
       "<table border=\"1\" class=\"dataframe\">\n",
       "  <thead>\n",
       "    <tr style=\"text-align: right;\">\n",
       "      <th></th>\n",
       "      <th>Index</th>\n",
       "      <th>Accident_Severity</th>\n",
       "      <th>Accident Date</th>\n",
       "      <th>Latitude</th>\n",
       "      <th>Light_Conditions</th>\n",
       "      <th>District Area</th>\n",
       "      <th>Longitude</th>\n",
       "      <th>Number_of_Casualties</th>\n",
       "      <th>Number_of_Vehicles</th>\n",
       "      <th>Road_Surface_Conditions</th>\n",
       "      <th>Road_Type</th>\n",
       "      <th>Urban_or_Rural_Area</th>\n",
       "      <th>Weather_Conditions</th>\n",
       "      <th>Vehicle_Type</th>\n",
       "      <th>Year</th>\n",
       "      <th>Month</th>\n",
       "      <th>Day</th>\n",
       "      <th>DayOfWeek</th>\n",
       "    </tr>\n",
       "  </thead>\n",
       "  <tbody>\n",
       "    <tr>\n",
       "      <th>7</th>\n",
       "      <td>200701BS67370</td>\n",
       "      <td>Fatal</td>\n",
       "      <td>2019-10-03</td>\n",
       "      <td>51.482260</td>\n",
       "      <td>Darkness - lights lit</td>\n",
       "      <td>Kensington and Chelsea</td>\n",
       "      <td>-0.179486</td>\n",
       "      <td>3</td>\n",
       "      <td>2</td>\n",
       "      <td>Dry</td>\n",
       "      <td>Single carriageway</td>\n",
       "      <td>Urban</td>\n",
       "      <td>Fine no high winds</td>\n",
       "      <td>Car</td>\n",
       "      <td>2019</td>\n",
       "      <td>10</td>\n",
       "      <td>3</td>\n",
       "      <td>3</td>\n",
       "    </tr>\n",
       "    <tr>\n",
       "      <th>11</th>\n",
       "      <td>200701BS67747</td>\n",
       "      <td>Fatal</td>\n",
       "      <td>2019-11-02</td>\n",
       "      <td>51.499127</td>\n",
       "      <td>Daylight</td>\n",
       "      <td>Kensington and Chelsea</td>\n",
       "      <td>-0.159652</td>\n",
       "      <td>1</td>\n",
       "      <td>2</td>\n",
       "      <td>Dry</td>\n",
       "      <td>Single carriageway</td>\n",
       "      <td>Urban</td>\n",
       "      <td>Fine no high winds</td>\n",
       "      <td>Bus or coach (17 or more pass seats)</td>\n",
       "      <td>2019</td>\n",
       "      <td>11</td>\n",
       "      <td>2</td>\n",
       "      <td>5</td>\n",
       "    </tr>\n",
       "    <tr>\n",
       "      <th>20</th>\n",
       "      <td>200701BS68301</td>\n",
       "      <td>Fatal</td>\n",
       "      <td>2019-10-24</td>\n",
       "      <td>51.505996</td>\n",
       "      <td>Daylight</td>\n",
       "      <td>Kensington and Chelsea</td>\n",
       "      <td>-0.214277</td>\n",
       "      <td>1</td>\n",
       "      <td>1</td>\n",
       "      <td>Dry</td>\n",
       "      <td>Single carriageway</td>\n",
       "      <td>Urban</td>\n",
       "      <td>Fine no high winds</td>\n",
       "      <td>Car</td>\n",
       "      <td>2019</td>\n",
       "      <td>10</td>\n",
       "      <td>24</td>\n",
       "      <td>3</td>\n",
       "    </tr>\n",
       "    <tr>\n",
       "      <th>21</th>\n",
       "      <td>200701BS68302</td>\n",
       "      <td>Fatal</td>\n",
       "      <td>2019-11-24</td>\n",
       "      <td>51.486795</td>\n",
       "      <td>Daylight</td>\n",
       "      <td>Kensington and Chelsea</td>\n",
       "      <td>-0.170375</td>\n",
       "      <td>5</td>\n",
       "      <td>1</td>\n",
       "      <td>Dry</td>\n",
       "      <td>Single carriageway</td>\n",
       "      <td>Urban</td>\n",
       "      <td>Fine no high winds</td>\n",
       "      <td>Car</td>\n",
       "      <td>2019</td>\n",
       "      <td>11</td>\n",
       "      <td>24</td>\n",
       "      <td>6</td>\n",
       "    </tr>\n",
       "    <tr>\n",
       "      <th>717</th>\n",
       "      <td>200701CP00032</td>\n",
       "      <td>Fatal</td>\n",
       "      <td>2019-01-30</td>\n",
       "      <td>51.510978</td>\n",
       "      <td>Daylight</td>\n",
       "      <td>City of London</td>\n",
       "      <td>-0.107581</td>\n",
       "      <td>1</td>\n",
       "      <td>2</td>\n",
       "      <td>Wet or damp</td>\n",
       "      <td>Dual carriageway</td>\n",
       "      <td>Urban</td>\n",
       "      <td>Fine no high winds</td>\n",
       "      <td>Car</td>\n",
       "      <td>2019</td>\n",
       "      <td>1</td>\n",
       "      <td>30</td>\n",
       "      <td>2</td>\n",
       "    </tr>\n",
       "    <tr>\n",
       "      <th>...</th>\n",
       "      <td>...</td>\n",
       "      <td>...</td>\n",
       "      <td>...</td>\n",
       "      <td>...</td>\n",
       "      <td>...</td>\n",
       "      <td>...</td>\n",
       "      <td>...</td>\n",
       "      <td>...</td>\n",
       "      <td>...</td>\n",
       "      <td>...</td>\n",
       "      <td>...</td>\n",
       "      <td>...</td>\n",
       "      <td>...</td>\n",
       "      <td>...</td>\n",
       "      <td>...</td>\n",
       "      <td>...</td>\n",
       "      <td>...</td>\n",
       "      <td>...</td>\n",
       "    </tr>\n",
       "    <tr>\n",
       "      <th>658716</th>\n",
       "      <td>2.01E+12</td>\n",
       "      <td>Fatal</td>\n",
       "      <td>2022-12-11</td>\n",
       "      <td>51.530375</td>\n",
       "      <td>Daylight</td>\n",
       "      <td>Cardiff</td>\n",
       "      <td>-3.116218</td>\n",
       "      <td>1</td>\n",
       "      <td>2</td>\n",
       "      <td>Dry</td>\n",
       "      <td>Dual carriageway</td>\n",
       "      <td>Urban</td>\n",
       "      <td>Fine no high winds</td>\n",
       "      <td>Van / Goods 3.5 tonnes mgw or under</td>\n",
       "      <td>2022</td>\n",
       "      <td>12</td>\n",
       "      <td>11</td>\n",
       "      <td>6</td>\n",
       "    </tr>\n",
       "    <tr>\n",
       "      <th>659036</th>\n",
       "      <td>201063AC10710</td>\n",
       "      <td>Fatal</td>\n",
       "      <td>2022-03-23</td>\n",
       "      <td>51.856558</td>\n",
       "      <td>Daylight</td>\n",
       "      <td>Carmarthenshire</td>\n",
       "      <td>-4.314756</td>\n",
       "      <td>1</td>\n",
       "      <td>2</td>\n",
       "      <td>Dry</td>\n",
       "      <td>Roundabout</td>\n",
       "      <td>Urban</td>\n",
       "      <td>Fine no high winds</td>\n",
       "      <td>Car</td>\n",
       "      <td>2022</td>\n",
       "      <td>3</td>\n",
       "      <td>23</td>\n",
       "      <td>2</td>\n",
       "    </tr>\n",
       "    <tr>\n",
       "      <th>659082</th>\n",
       "      <td>201063AC15310</td>\n",
       "      <td>Fatal</td>\n",
       "      <td>2022-05-14</td>\n",
       "      <td>51.686235</td>\n",
       "      <td>Daylight</td>\n",
       "      <td>Carmarthenshire</td>\n",
       "      <td>-4.192769</td>\n",
       "      <td>1</td>\n",
       "      <td>1</td>\n",
       "      <td>Wet or damp</td>\n",
       "      <td>Dual carriageway</td>\n",
       "      <td>Urban</td>\n",
       "      <td>Raining no high winds</td>\n",
       "      <td>Motorcycle over 125cc and up to 500cc</td>\n",
       "      <td>2022</td>\n",
       "      <td>5</td>\n",
       "      <td>14</td>\n",
       "      <td>5</td>\n",
       "    </tr>\n",
       "    <tr>\n",
       "      <th>659486</th>\n",
       "      <td>201063BC07710</td>\n",
       "      <td>Fatal</td>\n",
       "      <td>2022-06-01</td>\n",
       "      <td>52.419716</td>\n",
       "      <td>Daylight</td>\n",
       "      <td>Ceredigion</td>\n",
       "      <td>-4.064567</td>\n",
       "      <td>2</td>\n",
       "      <td>2</td>\n",
       "      <td>Dry</td>\n",
       "      <td>Single carriageway</td>\n",
       "      <td>Urban</td>\n",
       "      <td>Fine no high winds</td>\n",
       "      <td>Car</td>\n",
       "      <td>2022</td>\n",
       "      <td>6</td>\n",
       "      <td>1</td>\n",
       "      <td>2</td>\n",
       "    </tr>\n",
       "    <tr>\n",
       "      <th>660311</th>\n",
       "      <td>201063DP35410</td>\n",
       "      <td>Fatal</td>\n",
       "      <td>2022-10-28</td>\n",
       "      <td>52.515278</td>\n",
       "      <td>Darkness - lights lit</td>\n",
       "      <td>Powys</td>\n",
       "      <td>-3.317265</td>\n",
       "      <td>1</td>\n",
       "      <td>1</td>\n",
       "      <td>Dry</td>\n",
       "      <td>Single carriageway</td>\n",
       "      <td>Urban</td>\n",
       "      <td>Fine no high winds</td>\n",
       "      <td>Other vehicle</td>\n",
       "      <td>2022</td>\n",
       "      <td>10</td>\n",
       "      <td>28</td>\n",
       "      <td>4</td>\n",
       "    </tr>\n",
       "  </tbody>\n",
       "</table>\n",
       "<p>3060 rows × 18 columns</p>\n",
       "</div>"
      ],
      "text/plain": [
       "                Index Accident_Severity Accident Date   Latitude  \\\n",
       "7       200701BS67370             Fatal    2019-10-03  51.482260   \n",
       "11      200701BS67747             Fatal    2019-11-02  51.499127   \n",
       "20      200701BS68301             Fatal    2019-10-24  51.505996   \n",
       "21      200701BS68302             Fatal    2019-11-24  51.486795   \n",
       "717     200701CP00032             Fatal    2019-01-30  51.510978   \n",
       "...               ...               ...           ...        ...   \n",
       "658716       2.01E+12             Fatal    2022-12-11  51.530375   \n",
       "659036  201063AC10710             Fatal    2022-03-23  51.856558   \n",
       "659082  201063AC15310             Fatal    2022-05-14  51.686235   \n",
       "659486  201063BC07710             Fatal    2022-06-01  52.419716   \n",
       "660311  201063DP35410             Fatal    2022-10-28  52.515278   \n",
       "\n",
       "             Light_Conditions           District Area  Longitude  \\\n",
       "7       Darkness - lights lit  Kensington and Chelsea  -0.179486   \n",
       "11                   Daylight  Kensington and Chelsea  -0.159652   \n",
       "20                   Daylight  Kensington and Chelsea  -0.214277   \n",
       "21                   Daylight  Kensington and Chelsea  -0.170375   \n",
       "717                  Daylight          City of London  -0.107581   \n",
       "...                       ...                     ...        ...   \n",
       "658716               Daylight                 Cardiff  -3.116218   \n",
       "659036               Daylight         Carmarthenshire  -4.314756   \n",
       "659082               Daylight         Carmarthenshire  -4.192769   \n",
       "659486               Daylight              Ceredigion  -4.064567   \n",
       "660311  Darkness - lights lit                   Powys  -3.317265   \n",
       "\n",
       "        Number_of_Casualties  Number_of_Vehicles Road_Surface_Conditions  \\\n",
       "7                          3                   2                     Dry   \n",
       "11                         1                   2                     Dry   \n",
       "20                         1                   1                     Dry   \n",
       "21                         5                   1                     Dry   \n",
       "717                        1                   2             Wet or damp   \n",
       "...                      ...                 ...                     ...   \n",
       "658716                     1                   2                     Dry   \n",
       "659036                     1                   2                     Dry   \n",
       "659082                     1                   1             Wet or damp   \n",
       "659486                     2                   2                     Dry   \n",
       "660311                     1                   1                     Dry   \n",
       "\n",
       "                 Road_Type Urban_or_Rural_Area     Weather_Conditions  \\\n",
       "7       Single carriageway               Urban     Fine no high winds   \n",
       "11      Single carriageway               Urban     Fine no high winds   \n",
       "20      Single carriageway               Urban     Fine no high winds   \n",
       "21      Single carriageway               Urban     Fine no high winds   \n",
       "717       Dual carriageway               Urban     Fine no high winds   \n",
       "...                    ...                 ...                    ...   \n",
       "658716    Dual carriageway               Urban     Fine no high winds   \n",
       "659036          Roundabout               Urban     Fine no high winds   \n",
       "659082    Dual carriageway               Urban  Raining no high winds   \n",
       "659486  Single carriageway               Urban     Fine no high winds   \n",
       "660311  Single carriageway               Urban     Fine no high winds   \n",
       "\n",
       "                                 Vehicle_Type  Year  Month  Day  DayOfWeek  \n",
       "7                                         Car  2019     10    3          3  \n",
       "11       Bus or coach (17 or more pass seats)  2019     11    2          5  \n",
       "20                                        Car  2019     10   24          3  \n",
       "21                                        Car  2019     11   24          6  \n",
       "717                                       Car  2019      1   30          2  \n",
       "...                                       ...   ...    ...  ...        ...  \n",
       "658716    Van / Goods 3.5 tonnes mgw or under  2022     12   11          6  \n",
       "659036                                    Car  2022      3   23          2  \n",
       "659082  Motorcycle over 125cc and up to 500cc  2022      5   14          5  \n",
       "659486                                    Car  2022      6    1          2  \n",
       "660311                          Other vehicle  2022     10   28          4  \n",
       "\n",
       "[3060 rows x 18 columns]"
      ]
     },
     "execution_count": 25,
     "metadata": {},
     "output_type": "execute_result"
    }
   ],
   "source": [
    "fatal_total"
   ]
  },
  {
   "cell_type": "markdown",
   "id": "06f64aa0-e601-4689-a2f0-523a316e92a6",
   "metadata": {},
   "source": [
    "<h5><b>INSIGHT:</b>The total count shows there are 3,060 fatal accidents in rural areas.\n",
    "This number is much higher compared to many individual districts.\n",
    "It highlights that rural areas face a large share of fatal crashes.</h5>"
   ]
  },
  {
   "cell_type": "markdown",
   "id": "e9bb8316-5d7c-4eb3-b09b-6440bf981ba9",
   "metadata": {},
   "source": [
    "<h3><b>Question 5</b></h3>\n",
    "<h3>Compare mean casualties between daylight and darkness.</h3>"
   ]
  },
  {
   "cell_type": "code",
   "execution_count": 26,
   "id": "47164e68-54a4-4dfd-9ecf-9edc3598e77b",
   "metadata": {},
   "outputs": [
    {
     "data": {
      "text/plain": [
       "Light_Conditions\n",
       "Darkness - lighting unknown    1.306447\n",
       "Darkness - lights lit          1.369374\n",
       "Darkness - lights unlit        1.331105\n",
       "Darkness - no lighting         1.541657\n",
       "Daylight                       1.340309\n",
       "Name: Number_of_Casualties, dtype: float64"
      ]
     },
     "execution_count": 26,
     "metadata": {},
     "output_type": "execute_result"
    }
   ],
   "source": [
    "accident.groupby('Light_Conditions')['Number_of_Casualties'].mean()"
   ]
  },
  {
   "cell_type": "markdown",
   "id": "1c76291a-b161-4f3e-a375-2502dd59a434",
   "metadata": {},
   "source": [
    "<h5><b>INSIGHT:</b>Casualties are 1.34 in daylight on average.\n",
    "They are higher at 1.54 when in darkness without lighting.\n",
    "This shows that poor lighting increases average casualties.</h5>"
   ]
  },
  {
   "cell_type": "markdown",
   "id": "cfe06ff7-a910-4c41-bab6-e928f39b50d6",
   "metadata": {},
   "source": [
    "<h3><b>Question 6</b></h3>\n",
    "<h3>Number of accidents under each weather condition.</h3>"
   ]
  },
  {
   "cell_type": "code",
   "execution_count": 27,
   "id": "01f92765-485f-4827-9fa2-9b04327e0af6",
   "metadata": {},
   "outputs": [
    {
     "data": {
      "text/plain": [
       "Weather_Conditions\n",
       "Fine no high winds       535013\n",
       "Raining no high winds     79696\n",
       "Other                     17150\n",
       "Raining + high winds       9615\n",
       "Fine + high winds          8554\n",
       "Snowing no high winds      6238\n",
       "Fog or mist                3528\n",
       "Snowing + high winds        885\n",
       "Name: count, dtype: int64"
      ]
     },
     "execution_count": 27,
     "metadata": {},
     "output_type": "execute_result"
    }
   ],
   "source": [
    "accident['Weather_Conditions'].value_counts()"
   ]
  },
  {
   "cell_type": "markdown",
   "id": "346b40f9-45ff-4e3c-8684-1fde621b6b68",
   "metadata": {},
   "source": [
    "<h5><b>INSIGHT:</b>Most accidents happened in fine no high winds with 535,013 cases.\n",
    "Second was raining no high winds with 79,696 cases.\n",
    "Even if the weather is clear, fine days still caused the most accidents.</h5>"
   ]
  },
  {
   "cell_type": "markdown",
   "id": "daddda51-fd22-44ae-80f7-1e177ae3d151",
   "metadata": {},
   "source": [
    "<h3><b>Question 7</b></h3>\n",
    "<h3>Average casualties per weather condition.</h3>"
   ]
  },
  {
   "cell_type": "code",
   "execution_count": 28,
   "id": "2e1e9933-746c-475e-a07b-db9e93699009",
   "metadata": {},
   "outputs": [
    {
     "data": {
      "text/plain": [
       "Weather_Conditions\n",
       "Fine + high winds        1.386018\n",
       "Fine no high winds       1.347397\n",
       "Fog or mist              1.452948\n",
       "Other                    1.354869\n",
       "Raining + high winds     1.416641\n",
       "Raining no high winds    1.408214\n",
       "Snowing + high winds     1.418079\n",
       "Snowing no high winds    1.341776\n",
       "Name: Number_of_Casualties, dtype: float64"
      ]
     },
     "execution_count": 28,
     "metadata": {},
     "output_type": "execute_result"
    }
   ],
   "source": [
    "accident.groupby('Weather_Conditions')['Number_of_Casualties'].mean()"
   ]
  },
  {
   "cell_type": "markdown",
   "id": "39802a36-825a-42fb-9d6b-e3c5fe5e807b",
   "metadata": {},
   "source": [
    "<h5><b>INSIGHT:</bThe highest average casualties were in fog or mist at 1.45.\n",
    "The lowest was in fine no high winds at 1.34.\n",
    "Bad weather makes each crash more harmful, even if they happen less often.></h5>"
   ]
  },
  {
   "cell_type": "markdown",
   "id": "da909579-fb71-48f6-963f-00579709f505",
   "metadata": {},
   "source": [
    "<h3><b>Question 8</b></h3>\n",
    "<h3>Average casualties by road surface condition.</h3>"
   ]
  },
  {
   "cell_type": "code",
   "execution_count": 29,
   "id": "cb1a6e04-c926-4b07-9569-e9a453f84414",
   "metadata": {},
   "outputs": [
    {
     "data": {
      "text/plain": [
       "Road_Surface_Conditions\n",
       "Dry                     1.334545\n",
       "Flood over 3cm. deep    1.495575\n",
       "Frost or ice            1.348815\n",
       "Snow                    1.359593\n",
       "Wet or damp             1.411064\n",
       "Name: Number_of_Casualties, dtype: float64"
      ]
     },
     "execution_count": 29,
     "metadata": {},
     "output_type": "execute_result"
    }
   ],
   "source": [
    "accident.groupby('Road_Surface_Conditions')['Number_of_Casualties'].mean()"
   ]
  },
  {
   "cell_type": "markdown",
   "id": "25a1ec42-ad5f-47f3-afc9-0d38a14ac330",
   "metadata": {},
   "source": [
    "<h5><b>INSIGHT:</b>Flooded roads had the highest average of 1.49 casualties.\n",
    "Dry roads had the lowest at 1.33 casualties.\n",
    "This shows that rare but extreme surfaces, like floods, cause heavier impacts.</h5>"
   ]
  },
  {
   "cell_type": "markdown",
   "id": "d65e3f9b-41b0-422a-a7e8-1b6edfaafbab",
   "metadata": {},
   "source": [
    "<h3><b>Question 9</b></h3>\n",
    "<h3>Number of accidents for each road surface condition.</h3>"
   ]
  },
  {
   "cell_type": "code",
   "execution_count": 30,
   "id": "f82baf77-916e-41a0-a3ef-dfcef4b2f65e",
   "metadata": {},
   "outputs": [
    {
     "data": {
      "text/plain": [
       "Road_Surface_Conditions\n",
       "Dry                     448547\n",
       "Wet or damp             186708\n",
       "Frost or ice             18517\n",
       "Snow                      5890\n",
       "Flood over 3cm. deep      1017\n",
       "Name: count, dtype: int64"
      ]
     },
     "execution_count": 30,
     "metadata": {},
     "output_type": "execute_result"
    }
   ],
   "source": [
    "accident['Road_Surface_Conditions'].value_counts()"
   ]
  },
  {
   "cell_type": "markdown",
   "id": "2cb4984f-48a2-4149-94ab-e13d9f389b8d",
   "metadata": {},
   "source": [
    "<h5><b>INSIGHT:</b>Dry roads had the most with 448,547 accidents.\n",
    "Wet or damp roads had 186,708 accidents.\n",
    "Even though dry roads are safer, they still have the most crashes because they are most common.</h5>"
   ]
  },
  {
   "cell_type": "markdown",
   "id": "6d460469-6dc4-4c49-9377-5d65e0626200",
   "metadata": {},
   "source": [
    "<h3><b>Question 10</b></h3>\n",
    "<h3>Compare the total number of accidents between urban and rural areas.</h3>"
   ]
  },
  {
   "cell_type": "code",
   "execution_count": 31,
   "id": "0b214611-4f12-4374-bc91-5440a082e87e",
   "metadata": {},
   "outputs": [
    {
     "data": {
      "text/plain": [
       "Urban_or_Rural_Area\n",
       "Urban          421678\n",
       "Rural          238990\n",
       "Unallocated        11\n",
       "Name: count, dtype: int64"
      ]
     },
     "execution_count": 31,
     "metadata": {},
     "output_type": "execute_result"
    }
   ],
   "source": [
    "accident['Urban_or_Rural_Area'].value_counts()"
   ]
  },
  {
   "cell_type": "markdown",
   "id": "db1c1e89-a342-49ea-b906-00a665a12fda",
   "metadata": {},
   "source": [
    "<h5><b>INSIGHT:</b>Urban areas had 421,678 accidents.\n",
    "Rural areas had 238,990 accidents.\n",
    "This means more accidents happen in cities, but rural areas still have many serious ones.</h5>"
   ]
  },
  {
   "cell_type": "markdown",
   "id": "6932b717-06af-479e-ac69-4e032512eff2",
   "metadata": {},
   "source": [
    "<h3><b>Question 11</b></h3>\n",
    "<h3>Find accidents on 'Single carriageway' roads with >= 5 vehicles.</h3>"
   ]
  },
  {
   "cell_type": "code",
   "execution_count": 32,
   "id": "8ca4bb59-0551-4f00-aea2-30abbe4db5ed",
   "metadata": {},
   "outputs": [],
   "source": [
    "single = accident[(accident['Road_Type'] == 'Single carriageway') & (accident['Number_of_Vehicles'] >= 5)]"
   ]
  },
  {
   "cell_type": "code",
   "execution_count": 33,
   "id": "58da63f0-f87c-4032-9764-9fadb738d50f",
   "metadata": {},
   "outputs": [
    {
     "data": {
      "text/plain": [
       "np.int64(1826)"
      ]
     },
     "execution_count": 33,
     "metadata": {},
     "output_type": "execute_result"
    }
   ],
   "source": [
    "single.value_counts().sum()"
   ]
  },
  {
   "cell_type": "code",
   "execution_count": 34,
   "id": "ebab8846-fd7a-46bc-b216-4214acfb4c13",
   "metadata": {},
   "outputs": [
    {
     "data": {
      "text/html": [
       "<div>\n",
       "<style scoped>\n",
       "    .dataframe tbody tr th:only-of-type {\n",
       "        vertical-align: middle;\n",
       "    }\n",
       "\n",
       "    .dataframe tbody tr th {\n",
       "        vertical-align: top;\n",
       "    }\n",
       "\n",
       "    .dataframe thead th {\n",
       "        text-align: right;\n",
       "    }\n",
       "</style>\n",
       "<table border=\"1\" class=\"dataframe\">\n",
       "  <thead>\n",
       "    <tr style=\"text-align: right;\">\n",
       "      <th></th>\n",
       "      <th>Index</th>\n",
       "      <th>Accident_Severity</th>\n",
       "      <th>Accident Date</th>\n",
       "      <th>Latitude</th>\n",
       "      <th>Light_Conditions</th>\n",
       "      <th>District Area</th>\n",
       "      <th>Longitude</th>\n",
       "      <th>Number_of_Casualties</th>\n",
       "      <th>Number_of_Vehicles</th>\n",
       "      <th>Road_Surface_Conditions</th>\n",
       "      <th>Road_Type</th>\n",
       "      <th>Urban_or_Rural_Area</th>\n",
       "      <th>Weather_Conditions</th>\n",
       "      <th>Vehicle_Type</th>\n",
       "      <th>Year</th>\n",
       "      <th>Month</th>\n",
       "      <th>Day</th>\n",
       "      <th>DayOfWeek</th>\n",
       "    </tr>\n",
       "  </thead>\n",
       "  <tbody>\n",
       "    <tr>\n",
       "      <th>179</th>\n",
       "      <td>200701BS70183</td>\n",
       "      <td>Slight</td>\n",
       "      <td>2019-04-14</td>\n",
       "      <td>51.482079</td>\n",
       "      <td>Daylight</td>\n",
       "      <td>Kensington and Chelsea</td>\n",
       "      <td>-0.173589</td>\n",
       "      <td>1</td>\n",
       "      <td>5</td>\n",
       "      <td>Dry</td>\n",
       "      <td>Single carriageway</td>\n",
       "      <td>Urban</td>\n",
       "      <td>Fine no high winds</td>\n",
       "      <td>Motorcycle 125cc and under</td>\n",
       "      <td>2019</td>\n",
       "      <td>4</td>\n",
       "      <td>14</td>\n",
       "      <td>6</td>\n",
       "    </tr>\n",
       "    <tr>\n",
       "      <th>1600</th>\n",
       "      <td>200701CW10693</td>\n",
       "      <td>Slight</td>\n",
       "      <td>2019-06-03</td>\n",
       "      <td>51.533553</td>\n",
       "      <td>Darkness - lights lit</td>\n",
       "      <td>Westminster</td>\n",
       "      <td>-0.187534</td>\n",
       "      <td>5</td>\n",
       "      <td>5</td>\n",
       "      <td>Dry</td>\n",
       "      <td>Single carriageway</td>\n",
       "      <td>Urban</td>\n",
       "      <td>Fine no high winds</td>\n",
       "      <td>Minibus (8 - 16 passenger seats)</td>\n",
       "      <td>2019</td>\n",
       "      <td>6</td>\n",
       "      <td>3</td>\n",
       "      <td>0</td>\n",
       "    </tr>\n",
       "    <tr>\n",
       "      <th>3153</th>\n",
       "      <td>200701EO40541</td>\n",
       "      <td>Slight</td>\n",
       "      <td>2019-08-29</td>\n",
       "      <td>51.562268</td>\n",
       "      <td>Daylight</td>\n",
       "      <td>Islington</td>\n",
       "      <td>-0.126372</td>\n",
       "      <td>4</td>\n",
       "      <td>6</td>\n",
       "      <td>Dry</td>\n",
       "      <td>Single carriageway</td>\n",
       "      <td>Urban</td>\n",
       "      <td>Fine no high winds</td>\n",
       "      <td>Car</td>\n",
       "      <td>2019</td>\n",
       "      <td>8</td>\n",
       "      <td>29</td>\n",
       "      <td>3</td>\n",
       "    </tr>\n",
       "    <tr>\n",
       "      <th>4974</th>\n",
       "      <td>200701GD68362</td>\n",
       "      <td>Slight</td>\n",
       "      <td>2019-11-07</td>\n",
       "      <td>51.546190</td>\n",
       "      <td>Darkness - lights lit</td>\n",
       "      <td>Hackney</td>\n",
       "      <td>-0.061120</td>\n",
       "      <td>1</td>\n",
       "      <td>5</td>\n",
       "      <td>Dry</td>\n",
       "      <td>Single carriageway</td>\n",
       "      <td>Urban</td>\n",
       "      <td>Fine no high winds</td>\n",
       "      <td>Motorcycle 125cc and under</td>\n",
       "      <td>2019</td>\n",
       "      <td>11</td>\n",
       "      <td>7</td>\n",
       "      <td>3</td>\n",
       "    </tr>\n",
       "    <tr>\n",
       "      <th>5590</th>\n",
       "      <td>200701HT67026</td>\n",
       "      <td>Slight</td>\n",
       "      <td>2019-09-06</td>\n",
       "      <td>51.513139</td>\n",
       "      <td>Darkness - lights lit</td>\n",
       "      <td>Tower Hamlets</td>\n",
       "      <td>0.000601</td>\n",
       "      <td>2</td>\n",
       "      <td>5</td>\n",
       "      <td>Dry</td>\n",
       "      <td>Single carriageway</td>\n",
       "      <td>Urban</td>\n",
       "      <td>Fine no high winds</td>\n",
       "      <td>Car</td>\n",
       "      <td>2019</td>\n",
       "      <td>9</td>\n",
       "      <td>6</td>\n",
       "      <td>4</td>\n",
       "    </tr>\n",
       "    <tr>\n",
       "      <th>...</th>\n",
       "      <td>...</td>\n",
       "      <td>...</td>\n",
       "      <td>...</td>\n",
       "      <td>...</td>\n",
       "      <td>...</td>\n",
       "      <td>...</td>\n",
       "      <td>...</td>\n",
       "      <td>...</td>\n",
       "      <td>...</td>\n",
       "      <td>...</td>\n",
       "      <td>...</td>\n",
       "      <td>...</td>\n",
       "      <td>...</td>\n",
       "      <td>...</td>\n",
       "      <td>...</td>\n",
       "      <td>...</td>\n",
       "      <td>...</td>\n",
       "      <td>...</td>\n",
       "    </tr>\n",
       "    <tr>\n",
       "      <th>660204</th>\n",
       "      <td>201063DP24410</td>\n",
       "      <td>Slight</td>\n",
       "      <td>2022-08-05</td>\n",
       "      <td>51.919853</td>\n",
       "      <td>Daylight</td>\n",
       "      <td>Powys</td>\n",
       "      <td>-3.464519</td>\n",
       "      <td>4</td>\n",
       "      <td>7</td>\n",
       "      <td>Dry</td>\n",
       "      <td>Single carriageway</td>\n",
       "      <td>Rural</td>\n",
       "      <td>Fine no high winds</td>\n",
       "      <td>Bus or coach (17 or more pass seats)</td>\n",
       "      <td>2022</td>\n",
       "      <td>8</td>\n",
       "      <td>5</td>\n",
       "      <td>4</td>\n",
       "    </tr>\n",
       "    <tr>\n",
       "      <th>660212</th>\n",
       "      <td>201063DP25210</td>\n",
       "      <td>Slight</td>\n",
       "      <td>2022-08-15</td>\n",
       "      <td>52.659526</td>\n",
       "      <td>Daylight</td>\n",
       "      <td>Powys</td>\n",
       "      <td>-3.361520</td>\n",
       "      <td>2</td>\n",
       "      <td>5</td>\n",
       "      <td>Dry</td>\n",
       "      <td>Single carriageway</td>\n",
       "      <td>Rural</td>\n",
       "      <td>Fine no high winds</td>\n",
       "      <td>Car</td>\n",
       "      <td>2022</td>\n",
       "      <td>8</td>\n",
       "      <td>15</td>\n",
       "      <td>0</td>\n",
       "    </tr>\n",
       "    <tr>\n",
       "      <th>660233</th>\n",
       "      <td>201063DP27410</td>\n",
       "      <td>Slight</td>\n",
       "      <td>2022-08-30</td>\n",
       "      <td>52.649872</td>\n",
       "      <td>Daylight</td>\n",
       "      <td>Powys</td>\n",
       "      <td>-3.215909</td>\n",
       "      <td>1</td>\n",
       "      <td>5</td>\n",
       "      <td>Dry</td>\n",
       "      <td>Single carriageway</td>\n",
       "      <td>Rural</td>\n",
       "      <td>Fine no high winds</td>\n",
       "      <td>Van / Goods 3.5 tonnes mgw or under</td>\n",
       "      <td>2022</td>\n",
       "      <td>8</td>\n",
       "      <td>30</td>\n",
       "      <td>1</td>\n",
       "    </tr>\n",
       "    <tr>\n",
       "      <th>660247</th>\n",
       "      <td>201063DP28810</td>\n",
       "      <td>Slight</td>\n",
       "      <td>2022-07-27</td>\n",
       "      <td>52.000467</td>\n",
       "      <td>Daylight</td>\n",
       "      <td>Powys</td>\n",
       "      <td>-3.274712</td>\n",
       "      <td>2</td>\n",
       "      <td>5</td>\n",
       "      <td>Dry</td>\n",
       "      <td>Single carriageway</td>\n",
       "      <td>Rural</td>\n",
       "      <td>Fine no high winds</td>\n",
       "      <td>Taxi/Private hire car</td>\n",
       "      <td>2022</td>\n",
       "      <td>7</td>\n",
       "      <td>27</td>\n",
       "      <td>2</td>\n",
       "    </tr>\n",
       "    <tr>\n",
       "      <th>660333</th>\n",
       "      <td>201063DP37610</td>\n",
       "      <td>Slight</td>\n",
       "      <td>2022-09-24</td>\n",
       "      <td>52.683495</td>\n",
       "      <td>Daylight</td>\n",
       "      <td>Powys</td>\n",
       "      <td>-3.455319</td>\n",
       "      <td>1</td>\n",
       "      <td>5</td>\n",
       "      <td>Dry</td>\n",
       "      <td>Single carriageway</td>\n",
       "      <td>Rural</td>\n",
       "      <td>Fine no high winds</td>\n",
       "      <td>Car</td>\n",
       "      <td>2022</td>\n",
       "      <td>9</td>\n",
       "      <td>24</td>\n",
       "      <td>5</td>\n",
       "    </tr>\n",
       "  </tbody>\n",
       "</table>\n",
       "<p>1826 rows × 18 columns</p>\n",
       "</div>"
      ],
      "text/plain": [
       "                Index Accident_Severity Accident Date   Latitude  \\\n",
       "179     200701BS70183            Slight    2019-04-14  51.482079   \n",
       "1600    200701CW10693            Slight    2019-06-03  51.533553   \n",
       "3153    200701EO40541            Slight    2019-08-29  51.562268   \n",
       "4974    200701GD68362            Slight    2019-11-07  51.546190   \n",
       "5590    200701HT67026            Slight    2019-09-06  51.513139   \n",
       "...               ...               ...           ...        ...   \n",
       "660204  201063DP24410            Slight    2022-08-05  51.919853   \n",
       "660212  201063DP25210            Slight    2022-08-15  52.659526   \n",
       "660233  201063DP27410            Slight    2022-08-30  52.649872   \n",
       "660247  201063DP28810            Slight    2022-07-27  52.000467   \n",
       "660333  201063DP37610            Slight    2022-09-24  52.683495   \n",
       "\n",
       "             Light_Conditions           District Area  Longitude  \\\n",
       "179                  Daylight  Kensington and Chelsea  -0.173589   \n",
       "1600    Darkness - lights lit             Westminster  -0.187534   \n",
       "3153                 Daylight               Islington  -0.126372   \n",
       "4974    Darkness - lights lit                 Hackney  -0.061120   \n",
       "5590    Darkness - lights lit           Tower Hamlets   0.000601   \n",
       "...                       ...                     ...        ...   \n",
       "660204               Daylight                   Powys  -3.464519   \n",
       "660212               Daylight                   Powys  -3.361520   \n",
       "660233               Daylight                   Powys  -3.215909   \n",
       "660247               Daylight                   Powys  -3.274712   \n",
       "660333               Daylight                   Powys  -3.455319   \n",
       "\n",
       "        Number_of_Casualties  Number_of_Vehicles Road_Surface_Conditions  \\\n",
       "179                        1                   5                     Dry   \n",
       "1600                       5                   5                     Dry   \n",
       "3153                       4                   6                     Dry   \n",
       "4974                       1                   5                     Dry   \n",
       "5590                       2                   5                     Dry   \n",
       "...                      ...                 ...                     ...   \n",
       "660204                     4                   7                     Dry   \n",
       "660212                     2                   5                     Dry   \n",
       "660233                     1                   5                     Dry   \n",
       "660247                     2                   5                     Dry   \n",
       "660333                     1                   5                     Dry   \n",
       "\n",
       "                 Road_Type Urban_or_Rural_Area  Weather_Conditions  \\\n",
       "179     Single carriageway               Urban  Fine no high winds   \n",
       "1600    Single carriageway               Urban  Fine no high winds   \n",
       "3153    Single carriageway               Urban  Fine no high winds   \n",
       "4974    Single carriageway               Urban  Fine no high winds   \n",
       "5590    Single carriageway               Urban  Fine no high winds   \n",
       "...                    ...                 ...                 ...   \n",
       "660204  Single carriageway               Rural  Fine no high winds   \n",
       "660212  Single carriageway               Rural  Fine no high winds   \n",
       "660233  Single carriageway               Rural  Fine no high winds   \n",
       "660247  Single carriageway               Rural  Fine no high winds   \n",
       "660333  Single carriageway               Rural  Fine no high winds   \n",
       "\n",
       "                                Vehicle_Type  Year  Month  Day  DayOfWeek  \n",
       "179               Motorcycle 125cc and under  2019      4   14          6  \n",
       "1600        Minibus (8 - 16 passenger seats)  2019      6    3          0  \n",
       "3153                                     Car  2019      8   29          3  \n",
       "4974              Motorcycle 125cc and under  2019     11    7          3  \n",
       "5590                                     Car  2019      9    6          4  \n",
       "...                                      ...   ...    ...  ...        ...  \n",
       "660204  Bus or coach (17 or more pass seats)  2022      8    5          4  \n",
       "660212                                   Car  2022      8   15          0  \n",
       "660233   Van / Goods 3.5 tonnes mgw or under  2022      8   30          1  \n",
       "660247                 Taxi/Private hire car  2022      7   27          2  \n",
       "660333                                   Car  2022      9   24          5  \n",
       "\n",
       "[1826 rows x 18 columns]"
      ]
     },
     "execution_count": 34,
     "metadata": {},
     "output_type": "execute_result"
    }
   ],
   "source": [
    "single"
   ]
  },
  {
   "cell_type": "markdown",
   "id": "f312f6ea-f13a-4280-aaf8-8fda71392bd7",
   "metadata": {},
   "source": [
    "<h5><b>INSIGHT:</b>There are 1,826 accidents on single carriageways with 5+ vehicles.\n",
    "These are big pile-ups happening on this road type.\n",
    "It proves single carriageways can be high-risk for large crashes.</h5>"
   ]
  },
  {
   "cell_type": "markdown",
   "id": "a260bc84-5943-487d-beb7-cf36dc90526d",
   "metadata": {},
   "source": [
    "<h3><b>Question 12</b></h3>\n",
    "<h3>Which vehicle type is involved in the highest number of accidents?</h3>"
   ]
  },
  {
   "cell_type": "code",
   "execution_count": 35,
   "id": "c8b31174-cdfa-4cc0-a1a7-202709f269dc",
   "metadata": {},
   "outputs": [
    {
     "data": {
      "text/plain": [
       "Vehicle_Type\n",
       "Car                                      497992\n",
       "Van / Goods 3.5 tonnes mgw or under       34160\n",
       "Bus or coach (17 or more pass seats)      25878\n",
       "Motorcycle over 500cc                     25657\n",
       "Goods 7.5 tonnes mgw and over             17307\n",
       "Motorcycle 125cc and under                15269\n",
       "Taxi/Private hire car                     13294\n",
       "Motorcycle over 125cc and up to 500cc      7656\n",
       "Motorcycle 50cc and under                  7603\n",
       "Goods over 3.5t. and under 7.5t            6096\n",
       "Other vehicle                              5637\n",
       "Minibus (8 - 16 passenger seats)           1976\n",
       "Agricultural vehicle                       1947\n",
       "Pedal cycle                                 197\n",
       "Data missing or out of range                  6\n",
       "Ridden horse                                  4\n",
       "Name: count, dtype: int64"
      ]
     },
     "execution_count": 35,
     "metadata": {},
     "output_type": "execute_result"
    }
   ],
   "source": [
    "accident['Vehicle_Type'].value_counts()"
   ]
  },
  {
   "cell_type": "markdown",
   "id": "d534ef2f-8715-4226-b5ff-5760a8c19e38",
   "metadata": {},
   "source": [
    "<h5><b>INSIGHT:</b>Cars appear the most in the data.\n",
    "Other vehicles like vans and motorcycles appear less.\n",
    "This shows cars dominate road crashes since they are the most used.</h5>"
   ]
  },
  {
   "cell_type": "markdown",
   "id": "e8314260-0027-4cab-a2d1-642aa67108c1",
   "metadata": {},
   "source": [
    "<h3><b>Question 13</b></h3>\n",
    "<h3>Which road type has the most accidents?</h3>"
   ]
  },
  {
   "cell_type": "code",
   "execution_count": 36,
   "id": "f4b3f197-46ae-4582-b16e-5a266b1e110b",
   "metadata": {},
   "outputs": [
    {
     "data": {
      "text/plain": [
       "Road_Type\n",
       "Single carriageway    496663\n",
       "Dual carriageway       99424\n",
       "Roundabout             43992\n",
       "One way street         13559\n",
       "Slip road               7041\n",
       "Name: count, dtype: int64"
      ]
     },
     "execution_count": 36,
     "metadata": {},
     "output_type": "execute_result"
    }
   ],
   "source": [
    "accident['Road_Type'].value_counts()"
   ]
  },
  {
   "cell_type": "markdown",
   "id": "f7460a87-170f-4fb5-9042-2d509d0bbd65",
   "metadata": {},
   "source": [
    "<h5><b>INSIGHT:</b>Single carriageways had the most with 496,663 accidents.\n",
    "Dual carriageways were second with 99,424 accidents.\n",
    "Slip roads had the least with only 7,041 accidents.</h5>"
   ]
  },
  {
   "cell_type": "markdown",
   "id": "327ec446-1286-4adf-8045-e98dbd06b447",
   "metadata": {},
   "source": [
    "<h3><b>Question 14</b></h3>\n",
    "<h3>What is the maximum latitude recorded in the dataset?</h3>"
   ]
  },
  {
   "cell_type": "code",
   "execution_count": 37,
   "id": "771001a2-6f8c-4d57-b986-fe0448d63af1",
   "metadata": {},
   "outputs": [
    {
     "data": {
      "text/plain": [
       "np.float64(60.757544)"
      ]
     },
     "execution_count": 37,
     "metadata": {},
     "output_type": "execute_result"
    }
   ],
   "source": [
    "accident['Latitude'].max()"
   ]
  },
  {
   "cell_type": "markdown",
   "id": "05d9c608-bcf4-4097-ba32-e68f29948f8a",
   "metadata": {},
   "source": [
    "<h5><b>INSIGHT:</b>The maximum latitude recorded is 60.757544.\n",
    "This marks the northernmost location of an accident in the dataset.\n",
    "It shows that accidents were recorded even in very high northern areas.</h5>"
   ]
  },
  {
   "cell_type": "markdown",
   "id": "24e4ef29-662b-44ec-8818-1ef350388fc1",
   "metadata": {},
   "source": [
    "<h3><b>Question 15</b></h3>\n",
    "<h3>Find correlation between number of vehicles and number of casualties.</h3>"
   ]
  },
  {
   "cell_type": "code",
   "execution_count": 38,
   "id": "f41d5862-b51f-45a9-9bc2-d77a732c833d",
   "metadata": {},
   "outputs": [
    {
     "data": {
      "text/html": [
       "<div>\n",
       "<style scoped>\n",
       "    .dataframe tbody tr th:only-of-type {\n",
       "        vertical-align: middle;\n",
       "    }\n",
       "\n",
       "    .dataframe tbody tr th {\n",
       "        vertical-align: top;\n",
       "    }\n",
       "\n",
       "    .dataframe thead th {\n",
       "        text-align: right;\n",
       "    }\n",
       "</style>\n",
       "<table border=\"1\" class=\"dataframe\">\n",
       "  <thead>\n",
       "    <tr style=\"text-align: right;\">\n",
       "      <th></th>\n",
       "      <th>Number_of_Vehicles</th>\n",
       "      <th>Number_of_Casualties</th>\n",
       "    </tr>\n",
       "  </thead>\n",
       "  <tbody>\n",
       "    <tr>\n",
       "      <th>Number_of_Vehicles</th>\n",
       "      <td>1.000000</td>\n",
       "      <td>0.228889</td>\n",
       "    </tr>\n",
       "    <tr>\n",
       "      <th>Number_of_Casualties</th>\n",
       "      <td>0.228889</td>\n",
       "      <td>1.000000</td>\n",
       "    </tr>\n",
       "  </tbody>\n",
       "</table>\n",
       "</div>"
      ],
      "text/plain": [
       "                      Number_of_Vehicles  Number_of_Casualties\n",
       "Number_of_Vehicles              1.000000              0.228889\n",
       "Number_of_Casualties            0.228889              1.000000"
      ]
     },
     "execution_count": 38,
     "metadata": {},
     "output_type": "execute_result"
    }
   ],
   "source": [
    "accident[['Number_of_Vehicles','Number_of_Casualties']].corr()"
   ]
  },
  {
   "cell_type": "markdown",
   "id": "202bff13-1dca-4a00-892e-860fe45b3bc5",
   "metadata": {},
   "source": [
    "<h5><b>INSIGHT:</b>The correlation is 0.2289.\n",
    "This means casualties rise a little when vehicles increase.\n",
    "But the effect is weak since the value is far from 1.</h5>"
   ]
  },
  {
   "cell_type": "markdown",
   "id": "cb6cb1ca-ef0a-4fed-9dea-0b9a54be2df7",
   "metadata": {},
   "source": [
    "<h3><b>Question 16</b></h3>\n",
    "<h3>What is the total number of accidents by severity?</h3>"
   ]
  },
  {
   "cell_type": "code",
   "execution_count": 39,
   "id": "472c8fbd-cf24-47f3-93e3-dbb1a9d821b1",
   "metadata": {},
   "outputs": [
    {
     "data": {
      "text/plain": [
       "Accident_Severity\n",
       "Slight     563801\n",
       "Serious     88217\n",
       "Fatal        8661\n",
       "Name: count, dtype: int64"
      ]
     },
     "execution_count": 39,
     "metadata": {},
     "output_type": "execute_result"
    }
   ],
   "source": [
    "accident['Accident_Severity'].value_counts()"
   ]
  },
  {
   "cell_type": "markdown",
   "id": "bd9beb31-a32c-4454-b7db-3182f9b87cef",
   "metadata": {},
   "source": [
    "<h5><b>INSIGHT:</b>The result shows Fatal = 29,383, Serious = 307,278, and Slight = 3,804,313 accidents.\n",
    "Slight accidents make up the majority of the cases.\n",
    "This means most crashes are minor, while fatal cases are rare.</h5>"
   ]
  },
  {
   "cell_type": "markdown",
   "id": "61ca62ab-eed7-4674-b9dd-28091db95738",
   "metadata": {},
   "source": [
    "<h3><b>Question 17</b></h3>\n",
    "<h3>What is the average number of casualties per severity level?</h3>"
   ]
  },
  {
   "cell_type": "code",
   "execution_count": 40,
   "id": "9aea2134-fbaa-42cc-a2c6-6f247e639236",
   "metadata": {},
   "outputs": [
    {
     "data": {
      "text/plain": [
       "Accident_Severity\n",
       "Fatal      1.903129\n",
       "Serious    1.467280\n",
       "Slight     1.331402\n",
       "Name: Number_of_Casualties, dtype: float64"
      ]
     },
     "execution_count": 40,
     "metadata": {},
     "output_type": "execute_result"
    }
   ],
   "source": [
    "accident.groupby('Accident_Severity')['Number_of_Casualties'].mean()"
   ]
  },
  {
   "cell_type": "markdown",
   "id": "663f75c0-4dc3-46e8-85ad-1eb636a2bf63",
   "metadata": {},
   "source": [
    "<h5><b>INSIGHT:</b>Fatal accidents had 1.90 casualties on average.\n",
    "Serious accidents had 1.47 casualties.\n",
    "Slight accidents had the least at 1.33 casualties.</h5>"
   ]
  },
  {
   "cell_type": "markdown",
   "id": "26e72f9a-6e5e-4651-84f3-0ff958c5d44e",
   "metadata": {},
   "source": [
    "<h3><b>Question 18</b></h3>\n",
    "<h3>What is the maximum number of vehicles involved per severity level?</h3>"
   ]
  },
  {
   "cell_type": "code",
   "execution_count": 41,
   "id": "8bcd8ee4-a0b3-4e09-992b-3c4375834add",
   "metadata": {},
   "outputs": [
    {
     "data": {
      "text/plain": [
       "Accident_Severity\n",
       "Fatal      28\n",
       "Serious    19\n",
       "Slight     32\n",
       "Name: Number_of_Vehicles, dtype: int64"
      ]
     },
     "execution_count": 41,
     "metadata": {},
     "output_type": "execute_result"
    }
   ],
   "source": [
    "accident.groupby('Accident_Severity')['Number_of_Vehicles'].max()"
   ]
  },
  {
   "cell_type": "markdown",
   "id": "5f524562-5396-4ebf-8d41-03c9b373f835",
   "metadata": {},
   "source": [
    "<h5><b>INSIGHT:</b>Fatal accidents involved up to 28 vehicles.\n",
    "Serious accidents involved up to 19 vehicles.\n",
    "Slight accidents had the highest at 32 vehicles, showing that big pile-ups often happen in less severe cases.</h5>"
   ]
  },
  {
   "cell_type": "markdown",
   "id": "676b4946-26ae-46f2-8d3f-d5ae30c44f8c",
   "metadata": {},
   "source": [
    "<h3><b>Question 19</b></h3>\n",
    "<h3>Find accidents with severity 'Serious' and more than 5 vehicles.</h3>"
   ]
  },
  {
   "cell_type": "code",
   "execution_count": 42,
   "id": "894d08a9-2a03-4d6e-84ea-c69590ad24f7",
   "metadata": {},
   "outputs": [],
   "source": [
    "serius = accident[(accident['Accident_Severity'] == 'Serious') & (accident['Number_of_Vehicles'] > 5)]"
   ]
  },
  {
   "cell_type": "code",
   "execution_count": 43,
   "id": "11b50982-d8f2-4478-9ea8-77f242359074",
   "metadata": {},
   "outputs": [
    {
     "data": {
      "text/plain": [
       "np.int64(225)"
      ]
     },
     "execution_count": 43,
     "metadata": {},
     "output_type": "execute_result"
    }
   ],
   "source": [
    "serius.value_counts().sum()"
   ]
  },
  {
   "cell_type": "code",
   "execution_count": 44,
   "id": "b6c7501d-bb16-45e4-831f-5b4ab1c52c42",
   "metadata": {},
   "outputs": [
    {
     "data": {
      "text/html": [
       "<div>\n",
       "<style scoped>\n",
       "    .dataframe tbody tr th:only-of-type {\n",
       "        vertical-align: middle;\n",
       "    }\n",
       "\n",
       "    .dataframe tbody tr th {\n",
       "        vertical-align: top;\n",
       "    }\n",
       "\n",
       "    .dataframe thead th {\n",
       "        text-align: right;\n",
       "    }\n",
       "</style>\n",
       "<table border=\"1\" class=\"dataframe\">\n",
       "  <thead>\n",
       "    <tr style=\"text-align: right;\">\n",
       "      <th></th>\n",
       "      <th>Index</th>\n",
       "      <th>Accident_Severity</th>\n",
       "      <th>Accident Date</th>\n",
       "      <th>Latitude</th>\n",
       "      <th>Light_Conditions</th>\n",
       "      <th>District Area</th>\n",
       "      <th>Longitude</th>\n",
       "      <th>Number_of_Casualties</th>\n",
       "      <th>Number_of_Vehicles</th>\n",
       "      <th>Road_Surface_Conditions</th>\n",
       "      <th>Road_Type</th>\n",
       "      <th>Urban_or_Rural_Area</th>\n",
       "      <th>Weather_Conditions</th>\n",
       "      <th>Vehicle_Type</th>\n",
       "      <th>Year</th>\n",
       "      <th>Month</th>\n",
       "      <th>Day</th>\n",
       "      <th>DayOfWeek</th>\n",
       "    </tr>\n",
       "  </thead>\n",
       "  <tbody>\n",
       "    <tr>\n",
       "      <th>17292</th>\n",
       "      <td>200701TX20756</td>\n",
       "      <td>Serious</td>\n",
       "      <td>2019-12-27</td>\n",
       "      <td>51.497568</td>\n",
       "      <td>Darkness - lights lit</td>\n",
       "      <td>Hounslow</td>\n",
       "      <td>-0.409679</td>\n",
       "      <td>3</td>\n",
       "      <td>6</td>\n",
       "      <td>Dry</td>\n",
       "      <td>Dual carriageway</td>\n",
       "      <td>Urban</td>\n",
       "      <td>Fine no high winds</td>\n",
       "      <td>Car</td>\n",
       "      <td>2019</td>\n",
       "      <td>12</td>\n",
       "      <td>27</td>\n",
       "      <td>4</td>\n",
       "    </tr>\n",
       "    <tr>\n",
       "      <th>20701</th>\n",
       "      <td>200701YE80096</td>\n",
       "      <td>Serious</td>\n",
       "      <td>2019-02-10</td>\n",
       "      <td>51.649226</td>\n",
       "      <td>Darkness - lights lit</td>\n",
       "      <td>Enfield</td>\n",
       "      <td>-0.059907</td>\n",
       "      <td>5</td>\n",
       "      <td>8</td>\n",
       "      <td>Wet or damp</td>\n",
       "      <td>Dual carriageway</td>\n",
       "      <td>Urban</td>\n",
       "      <td>Raining no high winds</td>\n",
       "      <td>Motorcycle 125cc and under</td>\n",
       "      <td>2019</td>\n",
       "      <td>2</td>\n",
       "      <td>10</td>\n",
       "      <td>6</td>\n",
       "    </tr>\n",
       "    <tr>\n",
       "      <th>26638</th>\n",
       "      <td>200704CA07126</td>\n",
       "      <td>Serious</td>\n",
       "      <td>2019-12-12</td>\n",
       "      <td>53.649171</td>\n",
       "      <td>Darkness - lights lit</td>\n",
       "      <td>Chorley</td>\n",
       "      <td>-2.616006</td>\n",
       "      <td>1</td>\n",
       "      <td>6</td>\n",
       "      <td>Wet or damp</td>\n",
       "      <td>Single carriageway</td>\n",
       "      <td>Urban</td>\n",
       "      <td>Fine no high winds</td>\n",
       "      <td>Motorcycle over 500cc</td>\n",
       "      <td>2019</td>\n",
       "      <td>12</td>\n",
       "      <td>12</td>\n",
       "      <td>3</td>\n",
       "    </tr>\n",
       "    <tr>\n",
       "      <th>40139</th>\n",
       "      <td>200706P070020</td>\n",
       "      <td>Serious</td>\n",
       "      <td>2019-04-08</td>\n",
       "      <td>53.598315</td>\n",
       "      <td>Daylight</td>\n",
       "      <td>Rochdale</td>\n",
       "      <td>-2.175247</td>\n",
       "      <td>2</td>\n",
       "      <td>6</td>\n",
       "      <td>Dry</td>\n",
       "      <td>Single carriageway</td>\n",
       "      <td>Urban</td>\n",
       "      <td>Fine no high winds</td>\n",
       "      <td>Car</td>\n",
       "      <td>2019</td>\n",
       "      <td>4</td>\n",
       "      <td>8</td>\n",
       "      <td>0</td>\n",
       "    </tr>\n",
       "    <tr>\n",
       "      <th>41464</th>\n",
       "      <td>200706X079140</td>\n",
       "      <td>Serious</td>\n",
       "      <td>2019-09-10</td>\n",
       "      <td>53.469673</td>\n",
       "      <td>Daylight</td>\n",
       "      <td>Salford</td>\n",
       "      <td>-2.404002</td>\n",
       "      <td>6</td>\n",
       "      <td>6</td>\n",
       "      <td>Dry</td>\n",
       "      <td>Dual carriageway</td>\n",
       "      <td>Rural</td>\n",
       "      <td>Fine no high winds</td>\n",
       "      <td>Car</td>\n",
       "      <td>2019</td>\n",
       "      <td>9</td>\n",
       "      <td>10</td>\n",
       "      <td>1</td>\n",
       "    </tr>\n",
       "    <tr>\n",
       "      <th>...</th>\n",
       "      <td>...</td>\n",
       "      <td>...</td>\n",
       "      <td>...</td>\n",
       "      <td>...</td>\n",
       "      <td>...</td>\n",
       "      <td>...</td>\n",
       "      <td>...</td>\n",
       "      <td>...</td>\n",
       "      <td>...</td>\n",
       "      <td>...</td>\n",
       "      <td>...</td>\n",
       "      <td>...</td>\n",
       "      <td>...</td>\n",
       "      <td>...</td>\n",
       "      <td>...</td>\n",
       "      <td>...</td>\n",
       "      <td>...</td>\n",
       "      <td>...</td>\n",
       "    </tr>\n",
       "    <tr>\n",
       "      <th>636524</th>\n",
       "      <td>2.01E+12</td>\n",
       "      <td>Serious</td>\n",
       "      <td>2022-11-18</td>\n",
       "      <td>51.394186</td>\n",
       "      <td>Daylight</td>\n",
       "      <td>Swale</td>\n",
       "      <td>0.752875</td>\n",
       "      <td>8</td>\n",
       "      <td>6</td>\n",
       "      <td>Wet or damp</td>\n",
       "      <td>Dual carriageway</td>\n",
       "      <td>Rural</td>\n",
       "      <td>Fine no high winds</td>\n",
       "      <td>Car</td>\n",
       "      <td>2022</td>\n",
       "      <td>11</td>\n",
       "      <td>18</td>\n",
       "      <td>4</td>\n",
       "    </tr>\n",
       "    <tr>\n",
       "      <th>638771</th>\n",
       "      <td>2.01E+12</td>\n",
       "      <td>Serious</td>\n",
       "      <td>2022-06-17</td>\n",
       "      <td>50.832303</td>\n",
       "      <td>Daylight</td>\n",
       "      <td>Brighton and Hove</td>\n",
       "      <td>-0.104633</td>\n",
       "      <td>3</td>\n",
       "      <td>6</td>\n",
       "      <td>Dry</td>\n",
       "      <td>Single carriageway</td>\n",
       "      <td>Urban</td>\n",
       "      <td>Fine no high winds</td>\n",
       "      <td>Motorcycle over 500cc</td>\n",
       "      <td>2022</td>\n",
       "      <td>6</td>\n",
       "      <td>17</td>\n",
       "      <td>4</td>\n",
       "    </tr>\n",
       "    <tr>\n",
       "      <th>638959</th>\n",
       "      <td>2.01E+12</td>\n",
       "      <td>Serious</td>\n",
       "      <td>2022-07-02</td>\n",
       "      <td>50.901389</td>\n",
       "      <td>Daylight</td>\n",
       "      <td>Mid Sussex</td>\n",
       "      <td>-0.179057</td>\n",
       "      <td>8</td>\n",
       "      <td>8</td>\n",
       "      <td>Dry</td>\n",
       "      <td>Dual carriageway</td>\n",
       "      <td>Rural</td>\n",
       "      <td>Fine no high winds</td>\n",
       "      <td>Car</td>\n",
       "      <td>2022</td>\n",
       "      <td>7</td>\n",
       "      <td>2</td>\n",
       "      <td>5</td>\n",
       "    </tr>\n",
       "    <tr>\n",
       "      <th>651179</th>\n",
       "      <td>201054ER04410</td>\n",
       "      <td>Serious</td>\n",
       "      <td>2022-02-12</td>\n",
       "      <td>51.169690</td>\n",
       "      <td>Daylight</td>\n",
       "      <td>Wiltshire</td>\n",
       "      <td>-2.076777</td>\n",
       "      <td>6</td>\n",
       "      <td>6</td>\n",
       "      <td>Wet or damp</td>\n",
       "      <td>Single carriageway</td>\n",
       "      <td>Rural</td>\n",
       "      <td>Fine no high winds</td>\n",
       "      <td>Car</td>\n",
       "      <td>2022</td>\n",
       "      <td>2</td>\n",
       "      <td>12</td>\n",
       "      <td>5</td>\n",
       "    </tr>\n",
       "    <tr>\n",
       "      <th>653228</th>\n",
       "      <td>2010550D38845</td>\n",
       "      <td>Serious</td>\n",
       "      <td>2022-09-05</td>\n",
       "      <td>50.623233</td>\n",
       "      <td>Daylight</td>\n",
       "      <td>Purbeck</td>\n",
       "      <td>-2.024284</td>\n",
       "      <td>3</td>\n",
       "      <td>6</td>\n",
       "      <td>Dry</td>\n",
       "      <td>Single carriageway</td>\n",
       "      <td>Rural</td>\n",
       "      <td>Fine no high winds</td>\n",
       "      <td>Car</td>\n",
       "      <td>2022</td>\n",
       "      <td>9</td>\n",
       "      <td>5</td>\n",
       "      <td>0</td>\n",
       "    </tr>\n",
       "  </tbody>\n",
       "</table>\n",
       "<p>225 rows × 18 columns</p>\n",
       "</div>"
      ],
      "text/plain": [
       "                Index Accident_Severity Accident Date   Latitude  \\\n",
       "17292   200701TX20756           Serious    2019-12-27  51.497568   \n",
       "20701   200701YE80096           Serious    2019-02-10  51.649226   \n",
       "26638   200704CA07126           Serious    2019-12-12  53.649171   \n",
       "40139   200706P070020           Serious    2019-04-08  53.598315   \n",
       "41464   200706X079140           Serious    2019-09-10  53.469673   \n",
       "...               ...               ...           ...        ...   \n",
       "636524       2.01E+12           Serious    2022-11-18  51.394186   \n",
       "638771       2.01E+12           Serious    2022-06-17  50.832303   \n",
       "638959       2.01E+12           Serious    2022-07-02  50.901389   \n",
       "651179  201054ER04410           Serious    2022-02-12  51.169690   \n",
       "653228  2010550D38845           Serious    2022-09-05  50.623233   \n",
       "\n",
       "             Light_Conditions      District Area  Longitude  \\\n",
       "17292   Darkness - lights lit           Hounslow  -0.409679   \n",
       "20701   Darkness - lights lit            Enfield  -0.059907   \n",
       "26638   Darkness - lights lit            Chorley  -2.616006   \n",
       "40139                Daylight           Rochdale  -2.175247   \n",
       "41464                Daylight            Salford  -2.404002   \n",
       "...                       ...                ...        ...   \n",
       "636524               Daylight              Swale   0.752875   \n",
       "638771               Daylight  Brighton and Hove  -0.104633   \n",
       "638959               Daylight         Mid Sussex  -0.179057   \n",
       "651179               Daylight          Wiltshire  -2.076777   \n",
       "653228               Daylight            Purbeck  -2.024284   \n",
       "\n",
       "        Number_of_Casualties  Number_of_Vehicles Road_Surface_Conditions  \\\n",
       "17292                      3                   6                     Dry   \n",
       "20701                      5                   8             Wet or damp   \n",
       "26638                      1                   6             Wet or damp   \n",
       "40139                      2                   6                     Dry   \n",
       "41464                      6                   6                     Dry   \n",
       "...                      ...                 ...                     ...   \n",
       "636524                     8                   6             Wet or damp   \n",
       "638771                     3                   6                     Dry   \n",
       "638959                     8                   8                     Dry   \n",
       "651179                     6                   6             Wet or damp   \n",
       "653228                     3                   6                     Dry   \n",
       "\n",
       "                 Road_Type Urban_or_Rural_Area     Weather_Conditions  \\\n",
       "17292     Dual carriageway               Urban     Fine no high winds   \n",
       "20701     Dual carriageway               Urban  Raining no high winds   \n",
       "26638   Single carriageway               Urban     Fine no high winds   \n",
       "40139   Single carriageway               Urban     Fine no high winds   \n",
       "41464     Dual carriageway               Rural     Fine no high winds   \n",
       "...                    ...                 ...                    ...   \n",
       "636524    Dual carriageway               Rural     Fine no high winds   \n",
       "638771  Single carriageway               Urban     Fine no high winds   \n",
       "638959    Dual carriageway               Rural     Fine no high winds   \n",
       "651179  Single carriageway               Rural     Fine no high winds   \n",
       "653228  Single carriageway               Rural     Fine no high winds   \n",
       "\n",
       "                      Vehicle_Type  Year  Month  Day  DayOfWeek  \n",
       "17292                          Car  2019     12   27          4  \n",
       "20701   Motorcycle 125cc and under  2019      2   10          6  \n",
       "26638        Motorcycle over 500cc  2019     12   12          3  \n",
       "40139                          Car  2019      4    8          0  \n",
       "41464                          Car  2019      9   10          1  \n",
       "...                            ...   ...    ...  ...        ...  \n",
       "636524                         Car  2022     11   18          4  \n",
       "638771       Motorcycle over 500cc  2022      6   17          4  \n",
       "638959                         Car  2022      7    2          5  \n",
       "651179                         Car  2022      2   12          5  \n",
       "653228                         Car  2022      9    5          0  \n",
       "\n",
       "[225 rows x 18 columns]"
      ]
     },
     "execution_count": 44,
     "metadata": {},
     "output_type": "execute_result"
    }
   ],
   "source": [
    "serius"
   ]
  },
  {
   "cell_type": "markdown",
   "id": "60befcc4-6881-41f1-b2f5-165fcde12f0f",
   "metadata": {},
   "source": [
    "<h5><b>INSIGHT:</b>There are 225 accidents with this condition.\n",
    "These are serious crashes with multiple vehicles.\n",
    "It shows big vehicle crashes can still be labeled as serious, not only fatal.</h5>"
   ]
  },
  {
   "cell_type": "markdown",
   "id": "10b14908-9068-4112-b1a9-17e73d9c7164",
   "metadata": {},
   "source": [
    "<h3><b>Question 20</b></h3>\n",
    "<h3>Which district had the highest total number of vehicles involved?</h3>"
   ]
  },
  {
   "cell_type": "code",
   "execution_count": 45,
   "id": "990ed4b9-8da3-4c69-951d-749d2b37516d",
   "metadata": {},
   "outputs": [
    {
     "data": {
      "text/plain": [
       "District Area\n",
       "Aberdeen City    2166\n",
       "Aberdeenshire    2998\n",
       "Adur             1219\n",
       "Allerdale        2011\n",
       "Alnwick           382\n",
       "                 ... \n",
       "Wychavon         2488\n",
       "Wycombe          3227\n",
       "Wyre             2303\n",
       "Wyre Forest      1734\n",
       "York             3521\n",
       "Name: Number_of_Vehicles, Length: 422, dtype: int64"
      ]
     },
     "execution_count": 45,
     "metadata": {},
     "output_type": "execute_result"
    }
   ],
   "source": [
    "accident.groupby('District Area')['Number_of_Vehicles'].sum()"
   ]
  },
  {
   "cell_type": "markdown",
   "id": "7e816420-de23-47b0-89a5-4d663daddcb4",
   "metadata": {},
   "source": [
    "<h5><b>INSIGHT:</b>York had the highest at 3,521 vehicles.\n",
    "Wycombe followed with 3,227 vehicles.\n",
    "These districts had the largest involvement of vehicles in crashes.</h5>"
   ]
  },
  {
   "cell_type": "code",
   "execution_count": 46,
   "id": "857efc04-6e8c-4364-b549-c23761f72f66",
   "metadata": {},
   "outputs": [
    {
     "name": "stdout",
     "output_type": "stream",
     "text": [
      "Accident_Severity  Fatal  Serious  Slight\n",
      "Year                                     \n",
      "2019                2714    24322  155079\n",
      "2020                2341    23121  145129\n",
      "2021                2057    21997  139500\n",
      "2022                1549    18777  124093\n"
     ]
    }
   ],
   "source": [
    "accident_group = accident.groupby(['Year','Accident_Severity']).size().unstack()\n",
    "print(accident_group)"
   ]
  },
  {
   "cell_type": "markdown",
   "id": "192db561-e8ee-496f-9ce8-1560038386f6",
   "metadata": {},
   "source": [
    "<h5><b>INSIGH:T</b> In 2019, only 1.5% of accidents were Fatal, while around 85% were Slight.\n",
    "\n",
    "Fatal cases dropped from 2,714 in 2019 to 1,549 in 2022 (a 42.9% decrease).\n",
    "\n",
    "The percentage of Serious accidents stayed almost the same across years (13%).\n",
    "\n",
    "The majority of cases are Slight accidents, consistently above 83% every year.</h5>"
   ]
  },
  {
   "cell_type": "code",
   "execution_count": 47,
   "id": "00f79ac9-9cf6-4f7f-a219-aeb08df06e28",
   "metadata": {},
   "outputs": [
    {
     "data": {
      "text/plain": [
       "Year\n",
       "2019    182115\n",
       "2020    170591\n",
       "2021    163554\n",
       "2022    144419\n",
       "Name: count, dtype: int64"
      ]
     },
     "execution_count": 47,
     "metadata": {},
     "output_type": "execute_result"
    }
   ],
   "source": [
    "accident['Year'].value_counts()"
   ]
  },
  {
   "cell_type": "markdown",
   "id": "666c39f7-ff09-41c4-a424-06769e4885a5",
   "metadata": {},
   "source": [
    "<h5><b>INSIGHT:</b> 2019 had the highest accident count (182,115), which is 28% of the dataset.\n",
    "\n",
    "2022 recorded the lowest (144,419), down by 20.7% compared to 2019.\n",
    "\n",
    "Each year shows a gradual decline in accident numbers.\n",
    "\n",
    "Over half of the accidents happened in just the first two years (2019–2020).</h5>"
   ]
  },
  {
   "cell_type": "code",
   "execution_count": 48,
   "id": "66491d87-90ea-42cf-93fd-533366c85627",
   "metadata": {},
   "outputs": [
    {
     "data": {
      "text/plain": [
       "Year\n",
       "2019    2714\n",
       "2020    2341\n",
       "2021    2057\n",
       "2022    1549\n",
       "dtype: int64"
      ]
     },
     "execution_count": 48,
     "metadata": {},
     "output_type": "execute_result"
    }
   ],
   "source": [
    "accident[accident['Accident_Severity']=='Fatal'].groupby('Year').size()"
   ]
  },
  {
   "cell_type": "markdown",
   "id": "b41b0120-e943-4918-a418-53678f0b56a8",
   "metadata": {},
   "source": [
    "<h5><b>INSIGHT:</b> Fatal accidents made up 1.5% of total cases in 2019, and fell to only 1.0% in 2022.\n",
    "\n",
    "Fatal cases declined by 43% from 2019 to 2022.\n",
    "\n",
    "The largest share of Fatal accidents happened in 2019 (32% of all Fatal cases).\n",
    "\n",
    "2022 recorded the lowest number of Fatal accidents, nearly half of 2019’s count.</h5>"
   ]
  },
  {
   "cell_type": "code",
   "execution_count": 49,
   "id": "7caa5c15-31b7-49b1-b4ec-998c3774fd74",
   "metadata": {},
   "outputs": [
    {
     "data": {
      "text/plain": [
       "Month\n",
       "1     1.804263\n",
       "2     1.813582\n",
       "3     1.825907\n",
       "4     1.848098\n",
       "5     1.832215\n",
       "6     1.844408\n",
       "7     1.844390\n",
       "8     1.849387\n",
       "9     1.845098\n",
       "10    1.831571\n",
       "11    1.831259\n",
       "12    1.800197\n",
       "Name: Number_of_Vehicles, dtype: float64"
      ]
     },
     "execution_count": 49,
     "metadata": {},
     "output_type": "execute_result"
    }
   ],
   "source": [
    "accident.groupby('Month')['Number_of_Vehicles'].mean()"
   ]
  },
  {
   "cell_type": "markdown",
   "id": "f0c2dddb-7623-47c7-a1e5-1c34c7bf9b43",
   "metadata": {},
   "source": [
    "<h5><b>INSIGHT:</b> Across all months, the average is about 1.8 vehicles per accident, meaning most involve just two vehicles.\n",
    "\n",
    "August recorded the highest average (1.85), 2.7% higher than January (1.80).\n",
    "\n",
    "The averages are almost the same across months, showing no big change.\n",
    "\n",
    "This indicates that multi-vehicle pile-ups are rare, since most involve only 2 vehicles.</h5>"
   ]
  },
  {
   "cell_type": "code",
   "execution_count": 50,
   "id": "001c532a-8b92-4b87-868e-4457502e4856",
   "metadata": {},
   "outputs": [
    {
     "data": {
      "text/plain": [
       "Month\n",
       "1     6681\n",
       "2     6246\n",
       "3     7118\n",
       "4     7336\n",
       "5     7721\n",
       "6     7916\n",
       "7     7863\n",
       "8     7532\n",
       "9     7987\n",
       "10    7939\n",
       "11    7568\n",
       "12    6310\n",
       "dtype: int64"
      ]
     },
     "execution_count": 50,
     "metadata": {},
     "output_type": "execute_result"
    }
   ],
   "source": [
    "accident[accident['Accident_Severity']=='Serious'].groupby('Month').size()"
   ]
  },
  {
   "cell_type": "markdown",
   "id": "c6915561-c54c-4088-b42c-8d0bd7bb317b",
   "metadata": {},
   "source": [
    "<h5><b>INSIGHT:</b> September had the most Serious accidents (7,987), about 9.1% of all Serious cases.\n",
    "\n",
    "February had the lowest (6,246), making up 7.1% of total Serious accidents.\n",
    "\n",
    "Just two months (September + October) accounted for nearly 18% of Serious accidents.\n",
    "\n",
    "Serious accidents were more frequent in late summer and autumn compared to early in the year.</h5>"
   ]
  },
  {
   "cell_type": "code",
   "execution_count": 51,
   "id": "68495f83-f7a5-4c60-b018-42514b9e2cbd",
   "metadata": {},
   "outputs": [
    {
     "data": {
      "text/plain": [
       "DayOfWeek\n",
       "5    107178\n",
       "2     99558\n",
       "3     99511\n",
       "4     97900\n",
       "1     94550\n",
       "6     89302\n",
       "0     72680\n",
       "Name: count, dtype: int64"
      ]
     },
     "execution_count": 51,
     "metadata": {},
     "output_type": "execute_result"
    }
   ],
   "source": [
    "accident['DayOfWeek'].value_counts()"
   ]
  },
  {
   "cell_type": "markdown",
   "id": "3ab02b0c-1e5c-4a19-97ee-61ae89363652",
   "metadata": {},
   "source": [
    "<h5><b>INSIGHT:</b> Friday had the most accidents (107,178), 15.6% of all cases.\n",
    "\n",
    "Sunday had the least (72,680), only 10.6% of all cases.\n",
    "\n",
    "Weekdays (Mon–Fri) account for 74.6% of total accidents.\n",
    "\n",
    "Accidents are more common on workdays compared to weekends.</h5>"
   ]
  },
  {
   "cell_type": "code",
   "execution_count": 52,
   "id": "7e32bddb-90bd-4010-9c03-c0c694f6c20d",
   "metadata": {},
   "outputs": [
    {
     "data": {
      "text/plain": [
       "np.float64(1.3403089424187429)"
      ]
     },
     "execution_count": 52,
     "metadata": {},
     "output_type": "execute_result"
    }
   ],
   "source": [
    "accident[accident['Light_Conditions'] == 'Daylight']['Number_of_Casualties'].mean()"
   ]
  },
  {
   "cell_type": "markdown",
   "id": "eb4aeb7b-e472-4e24-a872-7884af3efd7f",
   "metadata": {},
   "source": [
    "<h5><b>INSIGHT:</b> On average, each daylight accident involves 1.34 casualties.\n",
    "\n",
    "This means most daytime accidents affect only one person.\n",
    "\n",
    "It is rare for a daylight accident to involve more than two people.\n",
    "\n",
    "Daytime accidents tend to cause fewer casualties compared to nighttime ones.</h5>"
   ]
  }
 ],
 "metadata": {
  "kernelspec": {
   "display_name": "Python 3 (ipykernel)",
   "language": "python",
   "name": "python3"
  },
  "language_info": {
   "codemirror_mode": {
    "name": "ipython",
    "version": 3
   },
   "file_extension": ".py",
   "mimetype": "text/x-python",
   "name": "python",
   "nbconvert_exporter": "python",
   "pygments_lexer": "ipython3",
   "version": "3.13.6"
  }
 },
 "nbformat": 4,
 "nbformat_minor": 5
}
