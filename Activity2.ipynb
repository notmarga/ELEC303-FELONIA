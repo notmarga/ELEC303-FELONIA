{
 "cells": [
  {
   "cell_type": "markdown",
   "id": "9848ead8-00d5-4b85-995a-d02bbffa1d14",
   "metadata": {},
   "source": [
    "<h1>Activity 2 - UK ROAD ACCIDENT DATA ANALYTICS PROJECT</h1>\n",
    "<hr>\n",
    "<h2>Analyst: Margarette Ann Felonia</h2>"
   ]
  },
  {
   "cell_type": "code",
   "execution_count": null,
   "id": "1e5ea912-018c-4d42-8f20-f9a4249b6e74",
   "metadata": {},
   "outputs": [],
   "source": [
    "import numpy as np\n",
    "import pandas as pd\n",
    "import warnings\n",
    "warnings.filterwarnings('ignore')"
   ]
  },
  {
   "cell_type": "markdown",
   "id": "a023a0ec-12a5-4297-8043-142405bb73ee",
   "metadata": {},
   "source": [
    "<h2>Converting Dataset(s) into Dataframe</h2>\n",
    "<hr>"
   ]
  },
  {
   "cell_type": "code",
   "execution_count": null,
   "id": "b578aaa2-f190-48fc-aba9-134c498b4ad8",
   "metadata": {},
   "outputs": [],
   "source": [
    "accident = pd.read_csv(\"datasets//uk_road_accident.csv\")"
   ]
  },
  {
   "cell_type": "code",
   "execution_count": null,
   "id": "95a13e3e-e36d-47f7-9ed2-3ca185610197",
   "metadata": {},
   "outputs": [],
   "source": [
    "accident"
   ]
  },
  {
   "cell_type": "code",
   "execution_count": null,
   "id": "7b44ce16-375b-4346-80ad-50dff1753791",
   "metadata": {},
   "outputs": [],
   "source": [
    "accident.describe()"
   ]
  },
  {
   "cell_type": "code",
   "execution_count": null,
   "id": "905802bc-ffb3-46f5-9ac3-7d971b1308b4",
   "metadata": {},
   "outputs": [],
   "source": [
    "accident.describe().T"
   ]
  },
  {
   "cell_type": "markdown",
   "id": "7a00a99b-4b96-4436-ad51-983568952db6",
   "metadata": {},
   "source": [
    "<h1>Checking the null values</h1>\n",
    "<hr>"
   ]
  },
  {
   "cell_type": "code",
   "execution_count": null,
   "id": "b43adf1f-d385-4517-af9c-80170e6aa0e6",
   "metadata": {},
   "outputs": [],
   "source": [
    "accident.isnull().sum()"
   ]
  },
  {
   "cell_type": "markdown",
   "id": "2d8d10b2-e71b-4421-86dd-2c7fb992a825",
   "metadata": {},
   "source": [
    "<h1>Filling the null values</h1>\n",
    "<hr>"
   ]
  },
  {
   "cell_type": "code",
   "execution_count": null,
   "id": "4d9ae2a5-eedc-4c72-883d-65abd0e68bd5",
   "metadata": {},
   "outputs": [],
   "source": [
    "accident['Latitude'] = accident['Latitude'].fillna(accident['Latitude'].mean())\n",
    "accident['Longitude'] = accident['Longitude'].fillna(accident['Longitude'].mean())\n",
    "accident['Road_Surface_Conditions'] = accident['Road_Surface_Conditions'].fillna(accident['Road_Surface_Conditions'].mode()[0])\n",
    "accident['Road_Type'] = accident['Road_Type'].fillna(accident['Road_Type'].mode()[0])\n",
    "accident['Urban_or_Rural_Area'] = accident['Urban_or_Rural_Area'].fillna(accident['Urban_or_Rural_Area'].mode()[0])\n",
    "accident['Weather_Conditions'] = accident['Weather_Conditions'].fillna(accident['Weather_Conditions'].mode()[0])"
   ]
  },
  {
   "cell_type": "code",
   "execution_count": null,
   "id": "228e5466-0dd9-4179-b4c9-defe6080a763",
   "metadata": {},
   "outputs": [],
   "source": [
    "accident.isnull().sum()"
   ]
  },
  {
   "cell_type": "code",
   "execution_count": null,
   "id": "5b164d7c-6879-426d-b6ef-f38a1f06886e",
   "metadata": {},
   "outputs": [],
   "source": [
    "accident.info()"
   ]
  },
  {
   "cell_type": "markdown",
   "id": "350deced-786f-4414-8b04-5d9853128a6a",
   "metadata": {},
   "source": [
    "<h1>Changing the Data type</h1>\n",
    "<hr>"
   ]
  },
  {
   "cell_type": "code",
   "execution_count": null,
   "id": "41c41456-f8b6-4878-91b7-6124cacb4261",
   "metadata": {},
   "outputs": [],
   "source": [
    "accident['Index']= accident['Index'].astype('category')\n",
    "accident['Accident_Severity']= accident['Accident_Severity'].astype('category')\n",
    "accident['Accident Date']= accident['Accident Date'].astype('category')\n",
    "accident['Light_Conditions']= accident['Light_Conditions'].astype('category')\n",
    "accident['District Area']= accident['District Area'].astype('category')\n",
    "accident['Road_Surface_Conditions']= accident['Road_Surface_Conditions'].astype('category')\n",
    "accident['Road_Type']= accident['Road_Type'].astype('category')\n",
    "accident['Urban_or_Rural_Area']= accident['Urban_or_Rural_Area'].astype('category')\n",
    "accident['Weather_Conditions']= accident['Weather_Conditions'].astype('category')\n",
    "accident['Vehicle_Type']= accident['Vehicle_Type'].astype('category')"
   ]
  },
  {
   "cell_type": "code",
   "execution_count": null,
   "id": "af1492ac-9be1-4f2f-9e87-50cbd2e137e3",
   "metadata": {},
   "outputs": [],
   "source": [
    "accident.info()"
   ]
  },
  {
   "cell_type": "markdown",
   "id": "abadf00d-da09-46db-a813-420e6b2f7cd4",
   "metadata": {},
   "source": [
    "<h2>Clearing Inconsitencies with the Data Set</h2>"
   ]
  },
  {
   "cell_type": "code",
   "execution_count": null,
   "id": "834b967e-9572-42f5-82bb-f9f9dbc820d9",
   "metadata": {},
   "outputs": [],
   "source": [
    "accident['Accident Date'] = accident['Accident Date'].str.strip()\n",
    "accident['Accident Date'] = accident['Accident Date'].astype('str')\n",
    "accident['Accident Date'] = accident['Accident Date'].str.replace('/', '-')"
   ]
  },
  {
   "cell_type": "code",
   "execution_count": null,
   "id": "f1a74a61-80eb-4f68-9aa9-a90903944392",
   "metadata": {},
   "outputs": [],
   "source": [
    "accident['Accident Date'] = pd.to_datetime(accident['Accident Date'], dayfirst = True, errors = 'coerce')"
   ]
  },
  {
   "cell_type": "markdown",
   "id": "06f39ad5-7c44-4cbd-97a1-9d1343c7549a",
   "metadata": {},
   "source": [
    "<h3>Adjusting Data types</h3>"
   ]
  },
  {
   "cell_type": "code",
   "execution_count": null,
   "id": "bf9a1951-9ad8-4475-ac1b-2cbb027eef52",
   "metadata": {},
   "outputs": [],
   "source": [
    "accident.dtypes"
   ]
  },
  {
   "cell_type": "code",
   "execution_count": null,
   "id": "928100dc-8ae9-4dcd-9067-fea8f6fd9303",
   "metadata": {},
   "outputs": [],
   "source": [
    "accident.isnull().sum()"
   ]
  },
  {
   "cell_type": "markdown",
   "id": "5aef66d6-952a-4a16-9679-9b8a0ceac308",
   "metadata": {},
   "source": [
    "<h2>Extracting Date information using pandas date time</h2>"
   ]
  },
  {
   "cell_type": "code",
   "execution_count": null,
   "id": "e0121fba-ba79-4bb2-a359-52aa53f0f34b",
   "metadata": {},
   "outputs": [],
   "source": [
    "accident['Year'] = accident['Accident Date'].dt.year\n",
    "accident['Month'] = accident['Accident Date'].dt.month\n",
    "accident['Day'] = accident['Accident Date'].dt.day\n",
    "accident['DayOfWeek'] = accident['Accident Date'].dt.dayofweek"
   ]
  },
  {
   "cell_type": "code",
   "execution_count": null,
   "id": "1ff34213-940e-47b1-8a76-56a61cbe6924",
   "metadata": {},
   "outputs": [],
   "source": [
    "accident.isnull().sum()"
   ]
  },
  {
   "cell_type": "markdown",
   "id": "03023d9c-afa9-4873-87a5-5970d6f1c55b",
   "metadata": {},
   "source": [
    "<h1>Explanatory Data Analysis(EDA)</h1>\n",
    "<hr>"
   ]
  },
  {
   "cell_type": "markdown",
   "id": "ad1dd860-ee38-4eba-a179-9f35efeff9ec",
   "metadata": {},
   "source": [
    "<h3><b>Question 1</b></h3>\n",
    "<h3>What is the average number of casualties in fatal accidents?</h3>"
   ]
  },
  {
   "cell_type": "code",
   "execution_count": null,
   "id": "a99bdaa7-c1ca-4449-9bb4-cd39b3511ec1",
   "metadata": {},
   "outputs": [],
   "source": [
    "fatal_acc = accident[(accident[\"Accident_Severity\"] == \"Fatal\") & (accident[\"Number_of_Casualties\"])]"
   ]
  },
  {
   "cell_type": "code",
   "execution_count": null,
   "id": "55a35c12-a876-492d-995b-8c6b0dcbb901",
   "metadata": {},
   "outputs": [],
   "source": [
    "fatal_acc"
   ]
  },
  {
   "cell_type": "markdown",
   "id": "6675c77d-b51a-4d50-830a-a3401c7d2d53",
   "metadata": {},
   "source": [
    "<h5><b>INSIGHT:</b>Fatal accidents have an average of 1.9 casualties.\n",
    "This means most fatal crashes involve about 2 people.\n",
    "It shows that these accidents usually affect more than one person.</h5>"
   ]
  },
  {
   "cell_type": "markdown",
   "id": "fcf9e359-b9c6-4bf0-b14a-a5e276f1e9e4",
   "metadata": {},
   "source": [
    "<h3><b>Question 2</b></h3>\n",
    "<h3>Districts with more than 10 accidents involving ≥ 4 vehicles</h3>"
   ]
  },
  {
   "cell_type": "code",
   "execution_count": null,
   "id": "3272002f-cec6-4d56-a00a-1bde29883bf3",
   "metadata": {},
   "outputs": [],
   "source": [
    "big_accidents = accident[accident['Number_of_Vehicles'] >= 4].groupby('District Area').size()\n",
    "big_accidents[big_accidents > 10]"
   ]
  },
  {
   "cell_type": "markdown",
   "id": "090ded16-f76b-4f92-bca6-743eed23b392",
   "metadata": {},
   "source": [
    "<h5><b>INSIGHT:</b>Some districts had many big crashes with 4 or more cars. This means heavy traffic places are more at risk. When more cars are involved, the damage and injuries can be worse.</h5>"
   ]
  },
  {
   "cell_type": "markdown",
   "id": "d6b2c284-7377-456d-bfad-628b9ca91c54",
   "metadata": {},
   "source": [
    "<h3><b>Question 3</b></h3>\n",
    "<h3> Average casualties by road surface and light condition</h3>"
   ]
  },
  {
   "cell_type": "code",
   "execution_count": null,
   "id": "5aba2c16-4490-4b65-8dd2-c6dd96fd4b1b",
   "metadata": {},
   "outputs": [],
   "source": [
    "casualties_grouped = accident.groupby(['Road_Surface_Conditions','Light_Conditions'])['Number_of_Casualties'].mean()"
   ]
  },
  {
   "cell_type": "code",
   "execution_count": null,
   "id": "3c7e1e0e-88fe-45f6-a299-33cd0504266a",
   "metadata": {},
   "outputs": [],
   "source": [
    "casualties_grouped"
   ]
  },
  {
   "cell_type": "markdown",
   "id": "050fab76-8615-48ec-9317-715fdf2a3267",
   "metadata": {},
   "source": [
    "<h5><b>INSIGHT:</b>The average casualties are usually around 1.3 to 1.5 across conditions.\n",
    "The highest was 3.5 casualties on snow in unlit darkness.\n",
    "Daylight values are slightly lower at around 1.3.</h5>"
   ]
  },
  {
   "cell_type": "markdown",
   "id": "981bb78b-176f-4e17-b318-7a01352f4d19",
   "metadata": {},
   "source": [
    "<h3><b>Question 4</b></h3>\n",
    "<h3>Total fatal accident in rural areas</h3>"
   ]
  },
  {
   "cell_type": "code",
   "execution_count": null,
   "id": "0010b365-6c14-46ad-aba0-60a20b139174",
   "metadata": {},
   "outputs": [],
   "source": [
    "fatal_total = accident[(accident['Accident_Severity'] == \"Fatal\") & (accident['Urban_or_Rural_Area'] == \"Urban\")]"
   ]
  },
  {
   "cell_type": "code",
   "execution_count": null,
   "id": "278d78e6-773c-4f7f-8d58-051ba49c38ea",
   "metadata": {},
   "outputs": [],
   "source": [
    "fatal_total.value_counts().sum()"
   ]
  },
  {
   "cell_type": "code",
   "execution_count": null,
   "id": "4dd77b26-c185-41d4-9aed-6840c2c856de",
   "metadata": {},
   "outputs": [],
   "source": [
    "fatal_total"
   ]
  },
  {
   "cell_type": "markdown",
   "id": "06f64aa0-e601-4689-a2f0-523a316e92a6",
   "metadata": {},
   "source": [
    "<h5><b>INSIGHT:</b>The total count shows there are 3,060 fatal accidents in rural areas.\n",
    "This number is much higher compared to many individual districts.\n",
    "It highlights that rural areas face a large share of fatal crashes.</h5>"
   ]
  },
  {
   "cell_type": "markdown",
   "id": "e9bb8316-5d7c-4eb3-b09b-6440bf981ba9",
   "metadata": {},
   "source": [
    "<h3><b>Question 5</b></h3>\n",
    "<h3>Compare mean casualties between daylight and darkness.</h3>"
   ]
  },
  {
   "cell_type": "code",
   "execution_count": null,
   "id": "47164e68-54a4-4dfd-9ecf-9edc3598e77b",
   "metadata": {},
   "outputs": [],
   "source": [
    "accident.groupby('Light_Conditions')['Number_of_Casualties'].mean()"
   ]
  },
  {
   "cell_type": "markdown",
   "id": "1c76291a-b161-4f3e-a375-2502dd59a434",
   "metadata": {},
   "source": [
    "<h5><b>INSIGHT:</b>Casualties are 1.34 in daylight on average.\n",
    "They are higher at 1.54 when in darkness without lighting.\n",
    "This shows that poor lighting increases average casualties.</h5>"
   ]
  },
  {
   "cell_type": "markdown",
   "id": "cfe06ff7-a910-4c41-bab6-e928f39b50d6",
   "metadata": {},
   "source": [
    "<h3><b>Question 6</b></h3>\n",
    "<h3>Number of accidents under each weather condition.</h3>"
   ]
  },
  {
   "cell_type": "code",
   "execution_count": null,
   "id": "01f92765-485f-4827-9fa2-9b04327e0af6",
   "metadata": {},
   "outputs": [],
   "source": [
    "accident['Weather_Conditions'].value_counts()"
   ]
  },
  {
   "cell_type": "markdown",
   "id": "346b40f9-45ff-4e3c-8684-1fde621b6b68",
   "metadata": {},
   "source": [
    "<h5><b>INSIGHT:</b>Most accidents happened in fine no high winds with 535,013 cases.\n",
    "Second was raining no high winds with 79,696 cases.\n",
    "Even if the weather is clear, fine days still caused the most accidents.</h5>"
   ]
  },
  {
   "cell_type": "markdown",
   "id": "daddda51-fd22-44ae-80f7-1e177ae3d151",
   "metadata": {},
   "source": [
    "<h3><b>Question 7</b></h3>\n",
    "<h3>Average casualties per weather condition.</h3>"
   ]
  },
  {
   "cell_type": "code",
   "execution_count": null,
   "id": "2e1e9933-746c-475e-a07b-db9e93699009",
   "metadata": {},
   "outputs": [],
   "source": [
    "accident.groupby('Weather_Conditions')['Number_of_Casualties'].mean()"
   ]
  },
  {
   "cell_type": "markdown",
   "id": "39802a36-825a-42fb-9d6b-e3c5fe5e807b",
   "metadata": {},
   "source": [
    "<h5><b>INSIGHT:</bThe highest average casualties were in fog or mist at 1.45.\n",
    "The lowest was in fine no high winds at 1.34.\n",
    "Bad weather makes each crash more harmful, even if they happen less often.></h5>"
   ]
  },
  {
   "cell_type": "markdown",
   "id": "da909579-fb71-48f6-963f-00579709f505",
   "metadata": {},
   "source": [
    "<h3><b>Question 8</b></h3>\n",
    "<h3>Average casualties by road surface condition.</h3>"
   ]
  },
  {
   "cell_type": "code",
   "execution_count": null,
   "id": "cb1a6e04-c926-4b07-9569-e9a453f84414",
   "metadata": {},
   "outputs": [],
   "source": [
    "accident.groupby('Road_Surface_Conditions')['Number_of_Casualties'].mean()"
   ]
  },
  {
   "cell_type": "markdown",
   "id": "25a1ec42-ad5f-47f3-afc9-0d38a14ac330",
   "metadata": {},
   "source": [
    "<h5><b>INSIGHT:</b>Flooded roads had the highest average of 1.49 casualties.\n",
    "Dry roads had the lowest at 1.33 casualties.\n",
    "This shows that rare but extreme surfaces, like floods, cause heavier impacts.</h5>"
   ]
  },
  {
   "cell_type": "markdown",
   "id": "d65e3f9b-41b0-422a-a7e8-1b6edfaafbab",
   "metadata": {},
   "source": [
    "<h3><b>Question 9</b></h3>\n",
    "<h3>Number of accidents for each road surface condition.</h3>"
   ]
  },
  {
   "cell_type": "code",
   "execution_count": null,
   "id": "f82baf77-916e-41a0-a3ef-dfcef4b2f65e",
   "metadata": {},
   "outputs": [],
   "source": [
    "accident['Road_Surface_Conditions'].value_counts()"
   ]
  },
  {
   "cell_type": "markdown",
   "id": "2cb4984f-48a2-4149-94ab-e13d9f389b8d",
   "metadata": {},
   "source": [
    "<h5><b>INSIGHT:</b>Dry roads had the most with 448,547 accidents.\n",
    "Wet or damp roads had 186,708 accidents.\n",
    "Even though dry roads are safer, they still have the most crashes because they are most common.</h5>"
   ]
  },
  {
   "cell_type": "markdown",
   "id": "6d460469-6dc4-4c49-9377-5d65e0626200",
   "metadata": {},
   "source": [
    "<h3><b>Question 10</b></h3>\n",
    "<h3>Compare the total number of accidents between urban and rural areas.</h3>"
   ]
  },
  {
   "cell_type": "code",
   "execution_count": null,
   "id": "0b214611-4f12-4374-bc91-5440a082e87e",
   "metadata": {},
   "outputs": [],
   "source": [
    "accident['Urban_or_Rural_Area'].value_counts()"
   ]
  },
  {
   "cell_type": "markdown",
   "id": "db1c1e89-a342-49ea-b906-00a665a12fda",
   "metadata": {},
   "source": [
    "<h5><b>INSIGHT:</b>Urban areas had 421,678 accidents.\n",
    "Rural areas had 238,990 accidents.\n",
    "This means more accidents happen in cities, but rural areas still have many serious ones.</h5>"
   ]
  },
  {
   "cell_type": "markdown",
   "id": "6932b717-06af-479e-ac69-4e032512eff2",
   "metadata": {},
   "source": [
    "<h3><b>Question 11</b></h3>\n",
    "<h3>Find accidents on 'Single carriageway' roads with >= 5 vehicles.</h3>"
   ]
  },
  {
   "cell_type": "code",
   "execution_count": null,
   "id": "8ca4bb59-0551-4f00-aea2-30abbe4db5ed",
   "metadata": {},
   "outputs": [],
   "source": [
    "single = accident[(accident['Road_Type'] == 'Single carriageway') & (accident['Number_of_Vehicles'] >= 5)]"
   ]
  },
  {
   "cell_type": "code",
   "execution_count": null,
   "id": "58da63f0-f87c-4032-9764-9fadb738d50f",
   "metadata": {},
   "outputs": [],
   "source": [
    "single.value_counts().sum()"
   ]
  },
  {
   "cell_type": "code",
   "execution_count": null,
   "id": "ebab8846-fd7a-46bc-b216-4214acfb4c13",
   "metadata": {},
   "outputs": [],
   "source": [
    "single"
   ]
  },
  {
   "cell_type": "markdown",
   "id": "f312f6ea-f13a-4280-aaf8-8fda71392bd7",
   "metadata": {},
   "source": [
    "<h5><b>INSIGHT:</b>There are 1,826 accidents on single carriageways with 5+ vehicles.\n",
    "These are big pile-ups happening on this road type.\n",
    "It proves single carriageways can be high-risk for large crashes.</h5>"
   ]
  },
  {
   "cell_type": "markdown",
   "id": "a260bc84-5943-487d-beb7-cf36dc90526d",
   "metadata": {},
   "source": [
    "<h3><b>Question 12</b></h3>\n",
    "<h3>Which vehicle type is involved in the highest number of accidents?</h3>"
   ]
  },
  {
   "cell_type": "code",
   "execution_count": null,
   "id": "c8b31174-cdfa-4cc0-a1a7-202709f269dc",
   "metadata": {},
   "outputs": [],
   "source": [
    "accident['Vehicle_Type'].value_counts()"
   ]
  },
  {
   "cell_type": "markdown",
   "id": "d534ef2f-8715-4226-b5ff-5760a8c19e38",
   "metadata": {},
   "source": [
    "<h5><b>INSIGHT:</b>Cars appear the most in the data.\n",
    "Other vehicles like vans and motorcycles appear less.\n",
    "This shows cars dominate road crashes since they are the most used.</h5>"
   ]
  },
  {
   "cell_type": "markdown",
   "id": "e8314260-0027-4cab-a2d1-642aa67108c1",
   "metadata": {},
   "source": [
    "<h3><b>Question 13</b></h3>\n",
    "<h3>Which road type has the most accidents?</h3>"
   ]
  },
  {
   "cell_type": "code",
   "execution_count": null,
   "id": "f4b3f197-46ae-4582-b16e-5a266b1e110b",
   "metadata": {},
   "outputs": [],
   "source": [
    "accident['Road_Type'].value_counts()"
   ]
  },
  {
   "cell_type": "markdown",
   "id": "f7460a87-170f-4fb5-9042-2d509d0bbd65",
   "metadata": {},
   "source": [
    "<h5><b>INSIGHT:</b>Single carriageways had the most with 496,663 accidents.\n",
    "Dual carriageways were second with 99,424 accidents.\n",
    "Slip roads had the least with only 7,041 accidents.</h5>"
   ]
  },
  {
   "cell_type": "markdown",
   "id": "327ec446-1286-4adf-8045-e98dbd06b447",
   "metadata": {},
   "source": [
    "<h3><b>Question 14</b></h3>\n",
    "<h3>What is the maximum latitude recorded in the dataset?</h3>"
   ]
  },
  {
   "cell_type": "code",
   "execution_count": null,
   "id": "771001a2-6f8c-4d57-b986-fe0448d63af1",
   "metadata": {},
   "outputs": [],
   "source": [
    "accident['Latitude'].max()"
   ]
  },
  {
   "cell_type": "markdown",
   "id": "05d9c608-bcf4-4097-ba32-e68f29948f8a",
   "metadata": {},
   "source": [
    "<h5><b>INSIGHT:</b>The maximum latitude recorded is 60.757544.\n",
    "This marks the northernmost location of an accident in the dataset.\n",
    "It shows that accidents were recorded even in very high northern areas.</h5>"
   ]
  },
  {
   "cell_type": "markdown",
   "id": "24e4ef29-662b-44ec-8818-1ef350388fc1",
   "metadata": {},
   "source": [
    "<h3><b>Question 15</b></h3>\n",
    "<h3>Find correlation between number of vehicles and number of casualties.</h3>"
   ]
  },
  {
   "cell_type": "code",
   "execution_count": null,
   "id": "f41d5862-b51f-45a9-9bc2-d77a732c833d",
   "metadata": {},
   "outputs": [],
   "source": [
    "accident[['Number_of_Vehicles','Number_of_Casualties']].corr()"
   ]
  },
  {
   "cell_type": "markdown",
   "id": "202bff13-1dca-4a00-892e-860fe45b3bc5",
   "metadata": {},
   "source": [
    "<h5><b>INSIGHT:</b>The correlation is 0.2289.\n",
    "This means casualties rise a little when vehicles increase.\n",
    "But the effect is weak since the value is far from 1.</h5>"
   ]
  },
  {
   "cell_type": "markdown",
   "id": "cb6cb1ca-ef0a-4fed-9dea-0b9a54be2df7",
   "metadata": {},
   "source": [
    "<h3><b>Question 16</b></h3>\n",
    "<h3>What is the total number of accidents by severity?</h3>"
   ]
  },
  {
   "cell_type": "code",
   "execution_count": null,
   "id": "472c8fbd-cf24-47f3-93e3-dbb1a9d821b1",
   "metadata": {},
   "outputs": [],
   "source": [
    "accident['Accident_Severity'].value_counts()"
   ]
  },
  {
   "cell_type": "markdown",
   "id": "bd9beb31-a32c-4454-b7db-3182f9b87cef",
   "metadata": {},
   "source": [
    "<h5><b>INSIGHT:</b>The result shows Fatal = 29,383, Serious = 307,278, and Slight = 3,804,313 accidents.\n",
    "Slight accidents make up the majority of the cases.\n",
    "This means most crashes are minor, while fatal cases are rare.</h5>"
   ]
  },
  {
   "cell_type": "markdown",
   "id": "61ca62ab-eed7-4674-b9dd-28091db95738",
   "metadata": {},
   "source": [
    "<h3><b>Question 17</b></h3>\n",
    "<h3>What is the average number of casualties per severity level?</h3>"
   ]
  },
  {
   "cell_type": "code",
   "execution_count": null,
   "id": "9aea2134-fbaa-42cc-a2c6-6f247e639236",
   "metadata": {},
   "outputs": [],
   "source": [
    "accident.groupby('Accident_Severity')['Number_of_Casualties'].mean()"
   ]
  },
  {
   "cell_type": "markdown",
   "id": "663f75c0-4dc3-46e8-85ad-1eb636a2bf63",
   "metadata": {},
   "source": [
    "<h5><b>INSIGHT:</b>Fatal accidents had 1.90 casualties on average.\n",
    "Serious accidents had 1.47 casualties.\n",
    "Slight accidents had the least at 1.33 casualties.</h5>"
   ]
  },
  {
   "cell_type": "markdown",
   "id": "26e72f9a-6e5e-4651-84f3-0ff958c5d44e",
   "metadata": {},
   "source": [
    "<h3><b>Question 18</b></h3>\n",
    "<h3>What is the maximum number of vehicles involved per severity level?</h3>"
   ]
  },
  {
   "cell_type": "code",
   "execution_count": null,
   "id": "8bcd8ee4-a0b3-4e09-992b-3c4375834add",
   "metadata": {},
   "outputs": [],
   "source": [
    "accident.groupby('Accident_Severity')['Number_of_Vehicles'].max()"
   ]
  },
  {
   "cell_type": "markdown",
   "id": "5f524562-5396-4ebf-8d41-03c9b373f835",
   "metadata": {},
   "source": [
    "<h5><b>INSIGHT:</b>Fatal accidents involved up to 28 vehicles.\n",
    "Serious accidents involved up to 19 vehicles.\n",
    "Slight accidents had the highest at 32 vehicles, showing that big pile-ups often happen in less severe cases.</h5>"
   ]
  },
  {
   "cell_type": "markdown",
   "id": "676b4946-26ae-46f2-8d3f-d5ae30c44f8c",
   "metadata": {},
   "source": [
    "<h3><b>Question 19</b></h3>\n",
    "<h3>Find accidents with severity 'Serious' and more than 5 vehicles.</h3>"
   ]
  },
  {
   "cell_type": "code",
   "execution_count": null,
   "id": "894d08a9-2a03-4d6e-84ea-c69590ad24f7",
   "metadata": {},
   "outputs": [],
   "source": [
    "serius = accident[(accident['Accident_Severity'] == 'Serious') & (accident['Number_of_Vehicles'] > 5)]"
   ]
  },
  {
   "cell_type": "code",
   "execution_count": null,
   "id": "11b50982-d8f2-4478-9ea8-77f242359074",
   "metadata": {},
   "outputs": [],
   "source": [
    "serius.value_counts().sum()"
   ]
  },
  {
   "cell_type": "code",
   "execution_count": null,
   "id": "b6c7501d-bb16-45e4-831f-5b4ab1c52c42",
   "metadata": {},
   "outputs": [],
   "source": [
    "serius"
   ]
  },
  {
   "cell_type": "markdown",
   "id": "60befcc4-6881-41f1-b2f5-165fcde12f0f",
   "metadata": {},
   "source": [
    "<h5><b>INSIGHT:</b>There are 225 accidents with this condition.\n",
    "These are serious crashes with multiple vehicles.\n",
    "It shows big vehicle crashes can still be labeled as serious, not only fatal.</h5>"
   ]
  },
  {
   "cell_type": "markdown",
   "id": "10b14908-9068-4112-b1a9-17e73d9c7164",
   "metadata": {},
   "source": [
    "<h3><b>Question 20</b></h3>\n",
    "<h3>Which district had the highest total number of vehicles involved?</h3>"
   ]
  },
  {
   "cell_type": "code",
   "execution_count": null,
   "id": "990ed4b9-8da3-4c69-951d-749d2b37516d",
   "metadata": {},
   "outputs": [],
   "source": [
    "accident.groupby('District Area')['Number_of_Vehicles'].sum()"
   ]
  },
  {
   "cell_type": "markdown",
   "id": "7e816420-de23-47b0-89a5-4d663daddcb4",
   "metadata": {},
   "source": [
    "<h5><b>INSIGHT:</b>York had the highest at 3,521 vehicles.\n",
    "Wycombe followed with 3,227 vehicles.\n",
    "These districts had the largest involvement of vehicles in crashes.</h5>"
   ]
  },
  {
   "cell_type": "code",
   "execution_count": null,
   "id": "857efc04-6e8c-4364-b549-c23761f72f66",
   "metadata": {},
   "outputs": [],
   "source": [
    "accident_group = accident.groupby(['Year','Accident_Severity']).size().unstack()\n",
    "print(accident_group)"
   ]
  },
  {
   "cell_type": "markdown",
   "id": "192db561-e8ee-496f-9ce8-1560038386f6",
   "metadata": {},
   "source": [
    "<h5><b>INSIGH:T</b> In 2019, only 1.5% of accidents were Fatal, while around 85% were Slight.\n",
    "\n",
    "Fatal cases dropped from 2,714 in 2019 to 1,549 in 2022 (a 42.9% decrease).\n",
    "\n",
    "The percentage of Serious accidents stayed almost the same across years (13%).\n",
    "\n",
    "The majority of cases are Slight accidents, consistently above 83% every year.</h5>"
   ]
  },
  {
   "cell_type": "code",
   "execution_count": null,
   "id": "00f79ac9-9cf6-4f7f-a219-aeb08df06e28",
   "metadata": {},
   "outputs": [],
   "source": [
    "accident['Year'].value_counts()"
   ]
  },
  {
   "cell_type": "markdown",
   "id": "666c39f7-ff09-41c4-a424-06769e4885a5",
   "metadata": {},
   "source": [
    "<h5><b>INSIGHT:</b> 2019 had the highest accident count (182,115), which is 28% of the dataset.\n",
    "\n",
    "2022 recorded the lowest (144,419), down by 20.7% compared to 2019.\n",
    "\n",
    "Each year shows a gradual decline in accident numbers.\n",
    "\n",
    "Over half of the accidents happened in just the first two years (2019–2020).</h5>"
   ]
  },
  {
   "cell_type": "code",
   "execution_count": null,
   "id": "66491d87-90ea-42cf-93fd-533366c85627",
   "metadata": {},
   "outputs": [],
   "source": [
    "accident[accident['Accident_Severity']=='Fatal'].groupby('Year').size()"
   ]
  },
  {
   "cell_type": "markdown",
   "id": "b41b0120-e943-4918-a418-53678f0b56a8",
   "metadata": {},
   "source": [
    "<h5><b>INSIGHT:</b> Fatal accidents made up 1.5% of total cases in 2019, and fell to only 1.0% in 2022.\n",
    "\n",
    "Fatal cases declined by 43% from 2019 to 2022.\n",
    "\n",
    "The largest share of Fatal accidents happened in 2019 (32% of all Fatal cases).\n",
    "\n",
    "2022 recorded the lowest number of Fatal accidents, nearly half of 2019’s count.</h5>"
   ]
  },
  {
   "cell_type": "code",
   "execution_count": null,
   "id": "7caa5c15-31b7-49b1-b4ec-998c3774fd74",
   "metadata": {},
   "outputs": [],
   "source": [
    "accident.groupby('Month')['Number_of_Vehicles'].mean()"
   ]
  },
  {
   "cell_type": "markdown",
   "id": "f0c2dddb-7623-47c7-a1e5-1c34c7bf9b43",
   "metadata": {},
   "source": [
    "<h5><b>INSIGHT:</b> Across all months, the average is about 1.8 vehicles per accident, meaning most involve just two vehicles.\n",
    "\n",
    "August recorded the highest average (1.85), 2.7% higher than January (1.80).\n",
    "\n",
    "The averages are almost the same across months, showing no big change.\n",
    "\n",
    "This indicates that multi-vehicle pile-ups are rare, since most involve only 2 vehicles.</h5>"
   ]
  },
  {
   "cell_type": "code",
   "execution_count": null,
   "id": "001c532a-8b92-4b87-868e-4457502e4856",
   "metadata": {},
   "outputs": [],
   "source": [
    "accident[accident['Accident_Severity']=='Serious'].groupby('Month').size()"
   ]
  },
  {
   "cell_type": "markdown",
   "id": "c6915561-c54c-4088-b42c-8d0bd7bb317b",
   "metadata": {},
   "source": [
    "<h5><b>INSIGHT:</b> September had the most Serious accidents (7,987), about 9.1% of all Serious cases.\n",
    "\n",
    "February had the lowest (6,246), making up 7.1% of total Serious accidents.\n",
    "\n",
    "Just two months (September + October) accounted for nearly 18% of Serious accidents.\n",
    "\n",
    "Serious accidents were more frequent in late summer and autumn compared to early in the year.</h5>"
   ]
  },
  {
   "cell_type": "code",
   "execution_count": null,
   "id": "68495f83-f7a5-4c60-b018-42514b9e2cbd",
   "metadata": {},
   "outputs": [],
   "source": [
    "accident['DayOfWeek'].value_counts()"
   ]
  },
  {
   "cell_type": "markdown",
   "id": "3ab02b0c-1e5c-4a19-97ee-61ae89363652",
   "metadata": {},
   "source": [
    "<h5><b>INSIGHT:</b> Friday had the most accidents (107,178), 15.6% of all cases.\n",
    "\n",
    "Sunday had the least (72,680), only 10.6% of all cases.\n",
    "\n",
    "Weekdays (Mon–Fri) account for 74.6% of total accidents.\n",
    "\n",
    "Accidents are more common on workdays compared to weekends.</h5>"
   ]
  },
  {
   "cell_type": "code",
   "execution_count": null,
   "id": "7e32bddb-90bd-4010-9c03-c0c694f6c20d",
   "metadata": {},
   "outputs": [],
   "source": [
    "accident[accident['Light_Conditions'] == 'Daylight']['Number_of_Casualties'].mean()"
   ]
  },
  {
   "cell_type": "markdown",
   "id": "eb4aeb7b-e472-4e24-a872-7884af3efd7f",
   "metadata": {},
   "source": [
    "<h5><b>INSIGHT:</b> On average, each daylight accident involves 1.34 casualties.\n",
    "\n",
    "This means most daytime accidents affect only one person.\n",
    "\n",
    "It is rare for a daylight accident to involve more than two people.\n",
    "\n",
    "Daytime accidents tend to cause fewer casualties compared to nighttime ones.</h5>"
   ]
  }
 ],
 "metadata": {
  "kernelspec": {
   "display_name": "Python 3 (ipykernel)",
   "language": "python",
   "name": "python3"
  },
  "language_info": {
   "codemirror_mode": {
    "name": "ipython",
    "version": 3
   },
   "file_extension": ".py",
   "mimetype": "text/x-python",
   "name": "python",
   "nbconvert_exporter": "python",
   "pygments_lexer": "ipython3",
   "version": "3.13.6"
  }
 },
 "nbformat": 4,
 "nbformat_minor": 5
}
